{
 "cells": [
  {
   "cell_type": "markdown",
   "metadata": {},
   "source": [
    "\n",
    "## 국민건강보험 건강검진 정보는?\n",
    "\n",
    "* 건강검진정보란 국민건강보험의 직장가입자와 40세 이상의 피부양자, 세대주인 지역가입자와 40세 이상의 지역가입자의 일반건강검진 결과와 이들 일반건강검진 대상자 중에 만40세와 만66세에 도달한 이들이 받게 되는 생애전환기건강진단 수검이력이 있는 각 연도별 수진자 100만 명에 대한 기본정보(성, 연령대, 시도코드 등)와 검진내역(신장, 체중, 총콜레스테롤, 혈색소 등)으로 구성된 개방데이터 중 만개의 데이터를 임의로 추출했습니다.\n",
    "\n",
    "## EDA\n",
    "* EDA는 [부스트코스] 파이썬으로 시작하는 데이터 사이언스 > 4. 건강검진 데이터로 가설검정하기 를 참고해 주세요.\n",
    "https://www.edwith.org/boostcourse-ds-510/lectures/28143\n",
    "\n",
    "\n",
    "## 회귀로 허리둘레 예측하기\n",
    "* 건강검진 데이터를 바탕으로 허리둘레 예측하기\n",
    "\n",
    "* 건강검진 센터에서 허리둘레 측정이 누락된 사람이 있다고 가정합니다.\n",
    "* 검진 데이터를 바탕으로 허리둘레를 예측한다면 건강한 생활습관을 가이드하거나 국민건강을 위한 계획을 수립하는데 도움이 될 것입니다.\n",
    "* 회귀 모델을 사용해서 건강검진 데이터를 바탕으로 허리둘레를 예측해 봅니다.\n",
    "\n",
    "## TODO 좋은 성능을 내는 알고리즘과 파라메터 찾기\n",
    "\n",
    "* 머신러닝을 통해 데이터를 예측하는 과정은 마치 우리가 기출문제와 정답을 보며 학습을 하고 실제 시험에서 문제를 풀게 되는 과정과 유사합니다. \n",
    "\n",
    "* 적절한 머신러닝 알고리즘과 파라메터를 설정하면 좋은 성능을 낼 것입니다. \n",
    "* 트리 계열의 3가지 모델의 성능을 파라메터 값에 따라 비교해 보고 가장 좋은 성능을 내는 모델을 찾아봅니다.\n",
    "* 머신러닝 알고리즘이 좋은 성능을 낼 수 있도록 여러 방법으로 허리둘레를 예측해 봅니다."
   ]
  },
  {
   "cell_type": "markdown",
   "metadata": {},
   "source": [
    "## 필요한 라이브러리 로드\n",
    "\n",
    "* 영상과 프로젝트 코드 작성에 사용한 버전입니다.\n",
    "    * pandas : 1.0.1\n",
    "    * numpy : 1.18.1\n",
    "    * scikit-learn(sklearn) : 0.22.1"
   ]
  },
  {
   "cell_type": "code",
   "execution_count": 1,
   "metadata": {
    "ExecuteTime": {
     "end_time": "2020-05-24T12:55:02.054831Z",
     "start_time": "2020-05-24T12:55:00.178956Z"
    }
   },
   "outputs": [],
   "source": [
    "# 데이터 분석을 위한 pandas, 수치계산을 위한 numpy\n",
    "# 시각화를 위한 seaborn, matplotlib.pyplot 을 로드합니다. \n",
    "import pandas as pd\n",
    "import numpy as np\n",
    "import seaborn as sns\n",
    "import matplotlib.pyplot as plt\n",
    "\n",
    "%matplotlib inline"
   ]
  },
  {
   "cell_type": "markdown",
   "metadata": {},
   "source": [
    "## 셀프리뷰를 위한 파일 로드"
   ]
  },
  {
   "cell_type": "code",
   "execution_count": 2,
   "metadata": {
    "ExecuteTime": {
     "end_time": "2020-05-24T12:55:02.066641Z",
     "start_time": "2020-05-24T12:55:02.058201Z"
    }
   },
   "outputs": [],
   "source": [
    "# check_util 폴더의 regression_checker.py 를 import 해서 사용합니다.\n",
    "# regression_checker 명칭을 줄여서 checker 라고 사용합니다.\n",
    "import check_util.regression_checker as checker"
   ]
  },
  {
   "cell_type": "code",
   "execution_count": 3,
   "metadata": {
    "ExecuteTime": {
     "end_time": "2020-05-24T12:55:02.117630Z",
     "start_time": "2020-05-24T12:55:02.070541Z"
    }
   },
   "outputs": [
    {
     "name": "stdout",
     "output_type": "stream",
     "text": [
      "셀프리뷰 파일이 정상로드 되었습니다. 이어서 진행하셔도 좋습니다.\n"
     ]
    },
    {
     "data": {
      "text/html": [
       "<div>\n",
       "<style scoped>\n",
       "    .dataframe tbody tr th:only-of-type {\n",
       "        vertical-align: middle;\n",
       "    }\n",
       "\n",
       "    .dataframe tbody tr th {\n",
       "        vertical-align: top;\n",
       "    }\n",
       "\n",
       "    .dataframe thead th {\n",
       "        text-align: right;\n",
       "    }\n",
       "</style>\n",
       "<table border=\"1\" class=\"dataframe\">\n",
       "  <thead>\n",
       "    <tr style=\"text-align: right;\">\n",
       "      <th></th>\n",
       "      <th>subject</th>\n",
       "      <th>criteria</th>\n",
       "      <th>content</th>\n",
       "      <th>flag</th>\n",
       "    </tr>\n",
       "    <tr>\n",
       "      <th>todo</th>\n",
       "      <th></th>\n",
       "      <th></th>\n",
       "      <th></th>\n",
       "      <th></th>\n",
       "    </tr>\n",
       "  </thead>\n",
       "  <tbody>\n",
       "    <tr>\n",
       "      <th>1</th>\n",
       "      <td>여러 모델 사용하기</td>\n",
       "      <td>여러 모델 사용하기</td>\n",
       "      <td>트리계열의 모델을 리스트로 만듭니다.</td>\n",
       "      <td>False</td>\n",
       "    </tr>\n",
       "    <tr>\n",
       "      <th>2</th>\n",
       "      <td>랜덤서치 만들기</td>\n",
       "      <td>모델의 파라메터 지정하기</td>\n",
       "      <td>트리의 깊이를 지정하기 위해 max_depth 를 랜덤하게 10개의 정수 값(int...</td>\n",
       "      <td>False</td>\n",
       "    </tr>\n",
       "    <tr>\n",
       "      <th>3</th>\n",
       "      <td>랜덤서치 만들기</td>\n",
       "      <td>모델의 파라메터 지정하기</td>\n",
       "      <td>피처를 샘플링할 비율을 지정하기 위해 max_features 를  랜덤하게 10개의...</td>\n",
       "      <td>False</td>\n",
       "    </tr>\n",
       "    <tr>\n",
       "      <th>4</th>\n",
       "      <td>랜덤서치 만들기</td>\n",
       "      <td>크로스 밸리데이션 사용하기</td>\n",
       "      <td>RandomizedSearchCV의 크로스밸리데이션의 조각을 3개로 나눕니다.</td>\n",
       "      <td>False</td>\n",
       "    </tr>\n",
       "    <tr>\n",
       "      <th>5</th>\n",
       "      <td>모델의 성능 측정하기</td>\n",
       "      <td>모델 평가하기</td>\n",
       "      <td>RMSE 로 오차값이 5보다 작은 값이 나오는지 측정합니다.</td>\n",
       "      <td>False</td>\n",
       "    </tr>\n",
       "    <tr>\n",
       "      <th>6</th>\n",
       "      <td>모델의 성능 측정하기</td>\n",
       "      <td>모델 평가하기</td>\n",
       "      <td>r^2 스코어로 0.7 보다 큰 값이 나오는지 측정합니다.</td>\n",
       "      <td>False</td>\n",
       "    </tr>\n",
       "  </tbody>\n",
       "</table>\n",
       "</div>"
      ],
      "text/plain": [
       "          subject        criteria  \\\n",
       "todo                                \n",
       "1      여러 모델 사용하기      여러 모델 사용하기   \n",
       "2        랜덤서치 만들기   모델의 파라메터 지정하기   \n",
       "3        랜덤서치 만들기   모델의 파라메터 지정하기   \n",
       "4        랜덤서치 만들기  크로스 밸리데이션 사용하기   \n",
       "5     모델의 성능 측정하기         모델 평가하기   \n",
       "6     모델의 성능 측정하기         모델 평가하기   \n",
       "\n",
       "                                                content   flag  \n",
       "todo                                                            \n",
       "1                                  트리계열의 모델을 리스트로 만듭니다.  False  \n",
       "2     트리의 깊이를 지정하기 위해 max_depth 를 랜덤하게 10개의 정수 값(int...  False  \n",
       "3     피처를 샘플링할 비율을 지정하기 위해 max_features 를  랜덤하게 10개의...  False  \n",
       "4           RandomizedSearchCV의 크로스밸리데이션의 조각을 3개로 나눕니다.  False  \n",
       "5                     RMSE 로 오차값이 5보다 작은 값이 나오는지 측정합니다.  False  \n",
       "6                      r^2 스코어로 0.7 보다 큰 값이 나오는지 측정합니다.  False  "
      ]
     },
     "execution_count": 3,
     "metadata": {},
     "output_type": "execute_result"
    }
   ],
   "source": [
    "# 셀프리뷰 파일이 정상로드 되었는지 확인합니다.\n",
    "checker.check_load_self_review()"
   ]
  },
  {
   "cell_type": "markdown",
   "metadata": {},
   "source": [
    "## 한글폰트 사용하기"
   ]
  },
  {
   "cell_type": "code",
   "execution_count": 4,
   "metadata": {
    "ExecuteTime": {
     "end_time": "2020-05-24T12:55:02.126811Z",
     "start_time": "2020-05-24T12:55:02.120102Z"
    }
   },
   "outputs": [],
   "source": [
    "# 한글폰트를 설정해 주지 않으면 그래프 상에서 한글이 깨져보입니다.\n",
    "# 한글이 출력될 수 있도록 폰트 설정을 해줍니다.\n",
    "# 운영체제별 설정을 위해 로드 합니다.\n",
    "import os\n",
    "\n",
    "# 윈도우, 맥 외의 OS는 별도로 설정해 주세요.\n",
    "if os.name == 'posix':\n",
    "    plt.rc(\"font\", family=\"AppleGothic\")\n",
    "else:\n",
    "    plt.rc(\"font\", family=\"Malgun Gothic\")\n",
    "# 마이너스 폰트 깨지는 문제에 대한 대처\n",
    "plt.rc(\"axes\", unicode_minus=False)"
   ]
  },
  {
   "cell_type": "code",
   "execution_count": 5,
   "metadata": {
    "ExecuteTime": {
     "end_time": "2020-05-24T12:55:02.147227Z",
     "start_time": "2020-05-24T12:55:02.130444Z"
    }
   },
   "outputs": [],
   "source": [
    "# 레티나 설정을 해주면 글씨가 좀 더 선명하게 보입니다.\n",
    "# 폰트의 주변이 흐릿하게 보이는 것을 방지합니다.\n",
    "%config InlineBackend.figure_format = 'retina'"
   ]
  },
  {
   "cell_type": "markdown",
   "metadata": {},
   "source": [
    "## 데이터셋 로드"
   ]
  },
  {
   "cell_type": "code",
   "execution_count": 6,
   "metadata": {
    "ExecuteTime": {
     "end_time": "2020-05-24T12:55:02.237206Z",
     "start_time": "2020-05-24T12:55:02.153548Z"
    }
   },
   "outputs": [
    {
     "data": {
      "text/plain": [
       "(10000, 34)"
      ]
     },
     "execution_count": 6,
     "metadata": {},
     "output_type": "execute_result"
    }
   ],
   "source": [
    "df = pd.read_csv(\"data/health.csv\")\n",
    "df.shape"
   ]
  },
  {
   "cell_type": "code",
   "execution_count": 7,
   "metadata": {
    "ExecuteTime": {
     "end_time": "2020-05-24T12:55:02.716635Z",
     "start_time": "2020-05-24T12:55:02.250350Z"
    }
   },
   "outputs": [
    {
     "name": "stderr",
     "output_type": "stream",
     "text": [
      "E:\\anaconda3\\lib\\site-packages\\seaborn\\distributions.py:2619: FutureWarning: `distplot` is a deprecated function and will be removed in a future version. Please adapt your code to use either `displot` (a figure-level function with similar flexibility) or `histplot` (an axes-level function for histograms).\n",
      "  warnings.warn(msg, FutureWarning)\n"
     ]
    },
    {
     "data": {
      "text/plain": [
       "<AxesSubplot:xlabel='허리둘레', ylabel='Density'>"
      ]
     },
     "execution_count": 7,
     "metadata": {},
     "output_type": "execute_result"
    },
    {
     "data": {
      "image/png": "[encoded data removed]",
      "text/plain": [
       "<Figure size 432x288 with 1 Axes>"
      ]
     },
     "metadata": {
      "image/png": {
       "height": 263,
       "width": 389
      },
      "needs_background": "light"
     },
     "output_type": "display_data"
    }
   ],
   "source": [
    "sns.distplot(df[\"허리둘레\"])"
   ]
  },
  {
   "cell_type": "code",
   "execution_count": 8,
   "metadata": {
    "ExecuteTime": {
     "end_time": "2020-05-24T12:55:02.735786Z",
     "start_time": "2020-05-24T12:55:02.720844Z"
    }
   },
   "outputs": [
    {
     "data": {
      "text/plain": [
       "count    10000.000000\n",
       "mean        81.349810\n",
       "std          9.721046\n",
       "min         52.000000\n",
       "25%         75.000000\n",
       "50%         81.000000\n",
       "75%         88.000000\n",
       "max        145.000000\n",
       "Name: 허리둘레, dtype: float64"
      ]
     },
     "execution_count": 8,
     "metadata": {},
     "output_type": "execute_result"
    }
   ],
   "source": [
    "df[\"허리둘레\"].describe()"
   ]
  },
  {
   "cell_type": "markdown",
   "metadata": {},
   "source": [
    "## 데이터 전처리"
   ]
  },
  {
   "cell_type": "markdown",
   "metadata": {},
   "source": [
    "### 결측치 채우기\n",
    "* 의미있는 값으로 채우면 분류 예측 결과가 더 좋아집니다."
   ]
  },
  {
   "cell_type": "code",
   "execution_count": 9,
   "metadata": {
    "ExecuteTime": {
     "end_time": "2020-05-24T12:55:02.755030Z",
     "start_time": "2020-05-24T12:55:02.739329Z"
    }
   },
   "outputs": [
    {
     "data": {
      "text/plain": [
       "기준년도            0\n",
       "가입자일련번호         0\n",
       "성별코드            0\n",
       "연령대코드(5세단위)     0\n",
       "시도코드            0\n",
       "신장(5Cm단위)       0\n",
       "체중(5Kg 단위)      0\n",
       "허리둘레            0\n",
       "시력(좌)           0\n",
       "시력(우)           0\n",
       "청력(좌)           0\n",
       "청력(우)           0\n",
       "수축기혈압           0\n",
       "이완기혈압           0\n",
       "식전혈당(공복혈당)      0\n",
       "총콜레스테롤          0\n",
       "트리글리세라이드        0\n",
       "HDL콜레스테롤        0\n",
       "LDL콜레스테롤        0\n",
       "혈색소             0\n",
       "요단백             0\n",
       "혈청크레아티닌         0\n",
       "(혈청지오티)AST      0\n",
       "(혈청지오티)ALT      0\n",
       "감마지티피           0\n",
       "흡연상태            0\n",
       "음주여부            0\n",
       "구강검진 수검여부       0\n",
       "치아우식증유무         0\n",
       "결손치유무           0\n",
       "치아마모증유무         0\n",
       "제3대구치(사랑니)이상    0\n",
       "치석              0\n",
       "데이터공개일자         0\n",
       "dtype: int64"
      ]
     },
     "execution_count": 9,
     "metadata": {},
     "output_type": "execute_result"
    }
   ],
   "source": [
    "df = df.replace(np.nan, 1)\n",
    "df.isnull().sum()"
   ]
  },
  {
   "cell_type": "markdown",
   "metadata": {},
   "source": [
    "## 학습, 예측에 사용할 컬럼"
   ]
  },
  {
   "cell_type": "code",
   "execution_count": 10,
   "metadata": {
    "ExecuteTime": {
     "end_time": "2020-05-24T12:55:02.769359Z",
     "start_time": "2020-05-24T12:55:02.759745Z"
    },
    "scrolled": false
   },
   "outputs": [
    {
     "data": {
      "text/plain": [
       "['기준년도',\n",
       " '가입자일련번호',\n",
       " '성별코드',\n",
       " '연령대코드(5세단위)',\n",
       " '시도코드',\n",
       " '신장(5Cm단위)',\n",
       " '체중(5Kg 단위)',\n",
       " '허리둘레',\n",
       " '시력(좌)',\n",
       " '시력(우)',\n",
       " '청력(좌)',\n",
       " '청력(우)',\n",
       " '수축기혈압',\n",
       " '이완기혈압',\n",
       " '식전혈당(공복혈당)',\n",
       " '총콜레스테롤',\n",
       " '트리글리세라이드',\n",
       " 'HDL콜레스테롤',\n",
       " 'LDL콜레스테롤',\n",
       " '혈색소',\n",
       " '요단백',\n",
       " '혈청크레아티닌',\n",
       " '(혈청지오티)AST',\n",
       " '(혈청지오티)ALT',\n",
       " '감마지티피',\n",
       " '흡연상태',\n",
       " '음주여부',\n",
       " '구강검진 수검여부',\n",
       " '치아우식증유무',\n",
       " '결손치유무',\n",
       " '치아마모증유무',\n",
       " '제3대구치(사랑니)이상',\n",
       " '치석',\n",
       " '데이터공개일자']"
      ]
     },
     "execution_count": 10,
     "metadata": {},
     "output_type": "execute_result"
    }
   ],
   "source": [
    "# feature_names 라는 변수에 학습과 예측에 사용할 컬럼명을 가져옵니다.\n",
    "feature_names = df.columns.tolist()\n",
    "\n",
    "feature_names"
   ]
  },
  {
   "cell_type": "code",
   "execution_count": 11,
   "metadata": {
    "ExecuteTime": {
     "end_time": "2020-05-24T12:55:02.780578Z",
     "start_time": "2020-05-24T12:55:02.772736Z"
    }
   },
   "outputs": [],
   "source": [
    "# feature_names 에 사용할 컬럼을 담아줍니다.\n",
    "feature_names = [\n",
    " '성별코드',\n",
    " '연령대코드(5세단위)',\n",
    " '시도코드',\n",
    " '신장(5Cm단위)',\n",
    " '체중(5Kg 단위)',\n",
    " '시력(좌)',\n",
    " '시력(우)',\n",
    " '청력(좌)',\n",
    " '청력(우)',\n",
    " '수축기혈압',\n",
    " '이완기혈압',\n",
    " '식전혈당(공복혈당)',\n",
    " '총콜레스테롤',\n",
    " '트리글리세라이드',\n",
    " 'HDL콜레스테롤',\n",
    " 'LDL콜레스테롤',\n",
    " '혈색소',\n",
    " '요단백',\n",
    " '혈청크레아티닌',\n",
    " '(혈청지오티)AST',\n",
    " '(혈청지오티)ALT',\n",
    " '감마지티피',\n",
    " '흡연상태',\n",
    " '음주여부',\n",
    " '치석',\n",
    "]"
   ]
  },
  {
   "cell_type": "markdown",
   "metadata": {},
   "source": [
    "## 정답값이자 예측해야 될 값"
   ]
  },
  {
   "cell_type": "code",
   "execution_count": 12,
   "metadata": {
    "ExecuteTime": {
     "end_time": "2020-05-24T12:55:02.827692Z",
     "start_time": "2020-05-24T12:55:02.801551Z"
    }
   },
   "outputs": [
    {
     "data": {
      "text/plain": [
       "'허리둘레'"
      ]
     },
     "execution_count": 12,
     "metadata": {},
     "output_type": "execute_result"
    }
   ],
   "source": [
    "# label_name 이라는 변수에 예측할 컬럼의 이름을 담습니다.\n",
    "label_name = \"허리둘레\"\n",
    "label_name"
   ]
  },
  {
   "cell_type": "markdown",
   "metadata": {},
   "source": [
    "## 학습, 예측 데이터셋 만들기"
   ]
  },
  {
   "cell_type": "code",
   "execution_count": 13,
   "metadata": {
    "ExecuteTime": {
     "end_time": "2020-05-24T12:55:02.849461Z",
     "start_time": "2020-05-24T12:55:02.835717Z"
    }
   },
   "outputs": [
    {
     "data": {
      "text/plain": [
       "((10000, 25), (10000,))"
      ]
     },
     "execution_count": 13,
     "metadata": {},
     "output_type": "execute_result"
    }
   ],
   "source": [
    "X = df[feature_names]\n",
    "y = df[label_name]\n",
    "\n",
    "X.shape, y.shape"
   ]
  },
  {
   "cell_type": "code",
   "execution_count": 14,
   "metadata": {
    "ExecuteTime": {
     "end_time": "2020-05-24T12:55:02.935041Z",
     "start_time": "2020-05-24T12:55:02.852705Z"
    }
   },
   "outputs": [],
   "source": [
    "from sklearn.model_selection import train_test_split\n",
    "\n",
    "X_train, X_test, y_train, y_test = train_test_split(\n",
    "    X, y, test_size=0.2, random_state=42)"
   ]
  },
  {
   "cell_type": "code",
   "execution_count": 15,
   "metadata": {
    "ExecuteTime": {
     "end_time": "2020-05-24T12:55:02.987112Z",
     "start_time": "2020-05-24T12:55:02.937426Z"
    }
   },
   "outputs": [
    {
     "name": "stdout",
     "output_type": "stream",
     "text": [
      "(8000, 25) (8000,)\n"
     ]
    },
    {
     "data": {
      "text/html": [
       "<div>\n",
       "<style scoped>\n",
       "    .dataframe tbody tr th:only-of-type {\n",
       "        vertical-align: middle;\n",
       "    }\n",
       "\n",
       "    .dataframe tbody tr th {\n",
       "        vertical-align: top;\n",
       "    }\n",
       "\n",
       "    .dataframe thead th {\n",
       "        text-align: right;\n",
       "    }\n",
       "</style>\n",
       "<table border=\"1\" class=\"dataframe\">\n",
       "  <thead>\n",
       "    <tr style=\"text-align: right;\">\n",
       "      <th></th>\n",
       "      <th>성별코드</th>\n",
       "      <th>연령대코드(5세단위)</th>\n",
       "      <th>시도코드</th>\n",
       "      <th>신장(5Cm단위)</th>\n",
       "      <th>체중(5Kg 단위)</th>\n",
       "      <th>시력(좌)</th>\n",
       "      <th>시력(우)</th>\n",
       "      <th>청력(좌)</th>\n",
       "      <th>청력(우)</th>\n",
       "      <th>수축기혈압</th>\n",
       "      <th>...</th>\n",
       "      <th>LDL콜레스테롤</th>\n",
       "      <th>혈색소</th>\n",
       "      <th>요단백</th>\n",
       "      <th>혈청크레아티닌</th>\n",
       "      <th>(혈청지오티)AST</th>\n",
       "      <th>(혈청지오티)ALT</th>\n",
       "      <th>감마지티피</th>\n",
       "      <th>흡연상태</th>\n",
       "      <th>음주여부</th>\n",
       "      <th>치석</th>\n",
       "    </tr>\n",
       "  </thead>\n",
       "  <tbody>\n",
       "    <tr>\n",
       "      <th>9254</th>\n",
       "      <td>1</td>\n",
       "      <td>10</td>\n",
       "      <td>11</td>\n",
       "      <td>170.0</td>\n",
       "      <td>60.0</td>\n",
       "      <td>1.0</td>\n",
       "      <td>1.2</td>\n",
       "      <td>1.0</td>\n",
       "      <td>1.0</td>\n",
       "      <td>97.0</td>\n",
       "      <td>...</td>\n",
       "      <td>126.0</td>\n",
       "      <td>15.0</td>\n",
       "      <td>1.0</td>\n",
       "      <td>1.1</td>\n",
       "      <td>18.0</td>\n",
       "      <td>10.0</td>\n",
       "      <td>20.0</td>\n",
       "      <td>3.0</td>\n",
       "      <td>1.0</td>\n",
       "      <td>1.0</td>\n",
       "    </tr>\n",
       "    <tr>\n",
       "      <th>1561</th>\n",
       "      <td>2</td>\n",
       "      <td>9</td>\n",
       "      <td>46</td>\n",
       "      <td>150.0</td>\n",
       "      <td>35.0</td>\n",
       "      <td>1.2</td>\n",
       "      <td>1.2</td>\n",
       "      <td>1.0</td>\n",
       "      <td>1.0</td>\n",
       "      <td>100.0</td>\n",
       "      <td>...</td>\n",
       "      <td>119.0</td>\n",
       "      <td>11.5</td>\n",
       "      <td>1.0</td>\n",
       "      <td>0.5</td>\n",
       "      <td>38.0</td>\n",
       "      <td>44.0</td>\n",
       "      <td>34.0</td>\n",
       "      <td>1.0</td>\n",
       "      <td>0.0</td>\n",
       "      <td>1.0</td>\n",
       "    </tr>\n",
       "    <tr>\n",
       "      <th>1670</th>\n",
       "      <td>2</td>\n",
       "      <td>13</td>\n",
       "      <td>11</td>\n",
       "      <td>145.0</td>\n",
       "      <td>45.0</td>\n",
       "      <td>1.0</td>\n",
       "      <td>1.0</td>\n",
       "      <td>1.0</td>\n",
       "      <td>1.0</td>\n",
       "      <td>144.0</td>\n",
       "      <td>...</td>\n",
       "      <td>197.0</td>\n",
       "      <td>14.3</td>\n",
       "      <td>1.0</td>\n",
       "      <td>0.6</td>\n",
       "      <td>23.0</td>\n",
       "      <td>20.0</td>\n",
       "      <td>19.0</td>\n",
       "      <td>1.0</td>\n",
       "      <td>0.0</td>\n",
       "      <td>0.0</td>\n",
       "    </tr>\n",
       "    <tr>\n",
       "      <th>6087</th>\n",
       "      <td>1</td>\n",
       "      <td>9</td>\n",
       "      <td>11</td>\n",
       "      <td>165.0</td>\n",
       "      <td>80.0</td>\n",
       "      <td>0.4</td>\n",
       "      <td>0.5</td>\n",
       "      <td>1.0</td>\n",
       "      <td>1.0</td>\n",
       "      <td>135.0</td>\n",
       "      <td>...</td>\n",
       "      <td>82.0</td>\n",
       "      <td>17.0</td>\n",
       "      <td>3.0</td>\n",
       "      <td>0.8</td>\n",
       "      <td>67.0</td>\n",
       "      <td>62.0</td>\n",
       "      <td>52.0</td>\n",
       "      <td>3.0</td>\n",
       "      <td>1.0</td>\n",
       "      <td>1.0</td>\n",
       "    </tr>\n",
       "    <tr>\n",
       "      <th>6669</th>\n",
       "      <td>1</td>\n",
       "      <td>11</td>\n",
       "      <td>26</td>\n",
       "      <td>165.0</td>\n",
       "      <td>70.0</td>\n",
       "      <td>0.8</td>\n",
       "      <td>0.6</td>\n",
       "      <td>1.0</td>\n",
       "      <td>1.0</td>\n",
       "      <td>150.0</td>\n",
       "      <td>...</td>\n",
       "      <td>92.0</td>\n",
       "      <td>15.0</td>\n",
       "      <td>1.0</td>\n",
       "      <td>0.9</td>\n",
       "      <td>22.0</td>\n",
       "      <td>28.0</td>\n",
       "      <td>57.0</td>\n",
       "      <td>2.0</td>\n",
       "      <td>1.0</td>\n",
       "      <td>1.0</td>\n",
       "    </tr>\n",
       "  </tbody>\n",
       "</table>\n",
       "<p>5 rows × 25 columns</p>\n",
       "</div>"
      ],
      "text/plain": [
       "      성별코드  연령대코드(5세단위)  시도코드  신장(5Cm단위)  체중(5Kg 단위)  시력(좌)  시력(우)  청력(좌)  \\\n",
       "9254     1           10    11      170.0        60.0    1.0    1.2    1.0   \n",
       "1561     2            9    46      150.0        35.0    1.2    1.2    1.0   \n",
       "1670     2           13    11      145.0        45.0    1.0    1.0    1.0   \n",
       "6087     1            9    11      165.0        80.0    0.4    0.5    1.0   \n",
       "6669     1           11    26      165.0        70.0    0.8    0.6    1.0   \n",
       "\n",
       "      청력(우)  수축기혈압  ...  LDL콜레스테롤   혈색소  요단백  혈청크레아티닌  (혈청지오티)AST  (혈청지오티)ALT  \\\n",
       "9254    1.0   97.0  ...     126.0  15.0  1.0      1.1        18.0        10.0   \n",
       "1561    1.0  100.0  ...     119.0  11.5  1.0      0.5        38.0        44.0   \n",
       "1670    1.0  144.0  ...     197.0  14.3  1.0      0.6        23.0        20.0   \n",
       "6087    1.0  135.0  ...      82.0  17.0  3.0      0.8        67.0        62.0   \n",
       "6669    1.0  150.0  ...      92.0  15.0  1.0      0.9        22.0        28.0   \n",
       "\n",
       "      감마지티피  흡연상태  음주여부   치석  \n",
       "9254   20.0   3.0   1.0  1.0  \n",
       "1561   34.0   1.0   0.0  1.0  \n",
       "1670   19.0   1.0   0.0  0.0  \n",
       "6087   52.0   3.0   1.0  1.0  \n",
       "6669   57.0   2.0   1.0  1.0  \n",
       "\n",
       "[5 rows x 25 columns]"
      ]
     },
     "execution_count": 15,
     "metadata": {},
     "output_type": "execute_result"
    }
   ],
   "source": [
    "# 학습 세트 확인 예) 기출문제(X_train)와 기출문제의 정답(y_train)\n",
    "print(X_train.shape, y_train.shape)\n",
    "X_train.head()"
   ]
  },
  {
   "cell_type": "code",
   "execution_count": 16,
   "metadata": {
    "ExecuteTime": {
     "end_time": "2020-05-24T12:55:02.997331Z",
     "start_time": "2020-05-24T12:55:02.991854Z"
    }
   },
   "outputs": [
    {
     "name": "stdout",
     "output_type": "stream",
     "text": [
      "(2000, 25) (2000,)\n"
     ]
    }
   ],
   "source": [
    "# 예측에 사용할 데이터세트를 만듭니다. 예) 실전 시험 문제와 실전 시험 문제의 정답\n",
    "\n",
    "print(X_test.shape, y_test.shape)"
   ]
  },
  {
   "cell_type": "markdown",
   "metadata": {},
   "source": [
    "## 머신러닝 알고리즘 가져오기\n",
    "1. 의사결정나무 사용하기\n",
    "1. 랜덤포레스트 사용하기\n",
    "1. 그라디언트 부스팅 사용하기"
   ]
  },
  {
   "cell_type": "markdown",
   "metadata": {},
   "source": [
    "### <font color=\"red\">TODO 1</font> 사용할 알고리즘을 리스트 형태로 만들기\n",
    "* <font color=\"blue\">estimators</font>라는 변수에 DecisionTreeRegressor, RandomForestRegressor, GradientBoostingRegressor를 리스트로 할당해 줍니다."
   ]
  },
  {
   "cell_type": "code",
   "execution_count": 17,
   "metadata": {
    "ExecuteTime": {
     "end_time": "2020-05-24T12:55:03.120697Z",
     "start_time": "2020-05-24T12:55:03.002269Z"
    },
    "scrolled": false
   },
   "outputs": [
    {
     "data": {
      "text/plain": [
       "[DecisionTreeRegressor(random_state=42),\n",
       " RandomForestRegressor(random_state=42),\n",
       " GradientBoostingRegressor(random_state=42)]"
      ]
     },
     "execution_count": 17,
     "metadata": {},
     "output_type": "execute_result"
    }
   ],
   "source": [
    "# 밑줄을 채워 코드를 완성해 주세요.\n",
    "from sklearn.tree import DecisionTreeRegressor\n",
    "from sklearn.ensemble import RandomForestRegressor, GradientBoostingRegressor\n",
    "\n",
    "estimators = [\n",
    "    DecisionTreeRegressor(random_state=42),\n",
    "    RandomForestRegressor(random_state=42),\n",
    "    GradientBoostingRegressor(random_state=42)\n",
    "]\n",
    "estimators"
   ]
  },
  {
   "cell_type": "markdown",
   "metadata": {},
   "source": [
    "#### <font color=\"blue\">TODO 1 Self Review</font>"
   ]
  },
  {
   "cell_type": "code",
   "execution_count": 18,
   "metadata": {
    "ExecuteTime": {
     "end_time": "2020-05-24T12:55:03.149439Z",
     "start_time": "2020-05-24T12:55:03.135235Z"
    }
   },
   "outputs": [
    {
     "name": "stdout",
     "output_type": "stream",
     "text": [
      "모델을 잘 정의해 주셨습니다. 이어서 진행하셔도 좋습니다.\n"
     ]
    }
   ],
   "source": [
    "# estimators변수에 DecisionTreeRegressor, RandomForestRegressor, GradientBoostingRegressor를 리스트로 할당되었는지 확인합니다.\n",
    "# 다음의 코드를 실행해서 확인합니다.\n",
    "# 아래의 코드를 실행해서 확인을 해주어야 제출파일을 작성할 수 있으니 꼭 확인해 주세요!\n",
    "checker.check_estimator(estimators)   "
   ]
  },
  {
   "cell_type": "code",
   "execution_count": 19,
   "metadata": {
    "ExecuteTime": {
     "end_time": "2020-05-24T12:55:03.170304Z",
     "start_time": "2020-05-24T12:55:03.157061Z"
    }
   },
   "outputs": [
    {
     "data": {
      "text/html": [
       "<div>\n",
       "<style scoped>\n",
       "    .dataframe tbody tr th:only-of-type {\n",
       "        vertical-align: middle;\n",
       "    }\n",
       "\n",
       "    .dataframe tbody tr th {\n",
       "        vertical-align: top;\n",
       "    }\n",
       "\n",
       "    .dataframe thead th {\n",
       "        text-align: right;\n",
       "    }\n",
       "</style>\n",
       "<table border=\"1\" class=\"dataframe\">\n",
       "  <thead>\n",
       "    <tr style=\"text-align: right;\">\n",
       "      <th></th>\n",
       "      <th>0</th>\n",
       "    </tr>\n",
       "  </thead>\n",
       "  <tbody>\n",
       "    <tr>\n",
       "      <th>0</th>\n",
       "      <td>DecisionTreeRegressor</td>\n",
       "    </tr>\n",
       "    <tr>\n",
       "      <th>1</th>\n",
       "      <td>RandomForestRegressor</td>\n",
       "    </tr>\n",
       "    <tr>\n",
       "      <th>2</th>\n",
       "      <td>GradientBoostingRegressor</td>\n",
       "    </tr>\n",
       "  </tbody>\n",
       "</table>\n",
       "</div>"
      ],
      "text/plain": [
       "                           0\n",
       "0      DecisionTreeRegressor\n",
       "1      RandomForestRegressor\n",
       "2  GradientBoostingRegressor"
      ]
     },
     "execution_count": 19,
     "metadata": {},
     "output_type": "execute_result"
    }
   ],
   "source": [
    "# 랜덤서치를 구현하기 전에 for문을 통해 여러 개의 모델을 순회하는 반복문을 구현해 봅니다. \n",
    "# result 에는 각 모델의 결과값을 저장하고\n",
    "# results 에 각 모델에서 나온 result 값을 모아줍니다.\n",
    "\n",
    "results = []\n",
    "for estimator in estimators:\n",
    "    result = []\n",
    "    result.append(estimator.__class__.__name__)\n",
    "    results.append(result)\n",
    "\n",
    "# 데이터 프레임 형태로 변환해 보면 모델별 결과값을 데이터프레임에 추가해서 보면 값을 비교해 볼 수 있을거 같습니다.\n",
    "pd.DataFrame(results)"
   ]
  },
  {
   "cell_type": "markdown",
   "metadata": {},
   "source": [
    "### <font color=\"red\">TODO 2~3</font> 랜덤한 파라메터 값 리스트로 구현하기\n",
    "* RandomizedSearchCV 에 사용할 param_distributions 값을 만들어 주세요.\n",
    "* max_depth 값을 int 형식으로 랜덤하게 10개의 원소를 갖는 리스트 형태로 만들어 주세요.\n",
    "* max_features 값을 float 형식으로 랜덤하게 10개의 원소를 갖는 리스트 형태로 만들어 주세요."
   ]
  },
  {
   "cell_type": "code",
   "execution_count": 20,
   "metadata": {
    "ExecuteTime": {
     "end_time": "2020-05-24T12:55:03.187336Z",
     "start_time": "2020-05-24T12:55:03.173925Z"
    }
   },
   "outputs": [
    {
     "data": {
      "text/plain": [
       "{'max_depth': array([28, 17, 17, 15, 11, 29, 21, 27, 20, 14]),\n",
       " 'max_features': array([0.71273169, 0.57952627, 0.78159562, 0.72297137, 0.99522449,\n",
       "        0.79798847, 0.79166   , 0.60077674, 0.76327921, 0.96493324])}"
      ]
     },
     "execution_count": 20,
     "metadata": {},
     "output_type": "execute_result"
    }
   ],
   "source": [
    "# 함수를 구현합니다.\n",
    "def make_params():\n",
    "\n",
    "    max_depth = np.random.randint(10, 30, 10) # 밑줄을 채워 코드를 완성해 주세요.\n",
    "    max_features = np.random.uniform(0.5, 1.0, 10) # 밑줄을 채워 코드를 완성해 주세요.\n",
    "\n",
    "    param_distributions = {\"max_depth\": max_depth, \"max_features\": max_features }\n",
    "\n",
    "    return param_distributions\n",
    "\n",
    "# 구현한 함수의 결과 값을 param_distributions 변수에 할당합니다.\n",
    "param_distributions = make_params()\n",
    "param_distributions"
   ]
  },
  {
   "cell_type": "markdown",
   "metadata": {},
   "source": [
    "#### <font color=\"blue\">TODO 2 Self Review</font>"
   ]
  },
  {
   "cell_type": "code",
   "execution_count": 21,
   "metadata": {
    "ExecuteTime": {
     "end_time": "2020-05-24T12:55:03.198677Z",
     "start_time": "2020-05-24T12:55:03.191340Z"
    }
   },
   "outputs": [
    {
     "name": "stdout",
     "output_type": "stream",
     "text": [
      "max_depth를 잘 구현해 주셨습니다. 이어서 진행하셔도 좋습니다.\n"
     ]
    }
   ],
   "source": [
    "# max_depth 값을 int 형식으로 랜덤하게 10개의 원소를 갖는 리스트 형태로 만들어졌는지 확인합니다.\n",
    "# 다음의 코드를 실행해서 확인합니다.\n",
    "# 아래의 코드를 실행해서 확인을 해주어야 제출파일을 작성할 수 있으니 꼭 확인해 주세요!\n",
    "checker.check_max_depth(param_distributions)"
   ]
  },
  {
   "cell_type": "markdown",
   "metadata": {},
   "source": [
    "#### <font color=\"blue\">TODO 3 Self Review</font>"
   ]
  },
  {
   "cell_type": "code",
   "execution_count": 22,
   "metadata": {
    "ExecuteTime": {
     "end_time": "2020-05-24T12:55:03.210433Z",
     "start_time": "2020-05-24T12:55:03.205249Z"
    }
   },
   "outputs": [
    {
     "name": "stdout",
     "output_type": "stream",
     "text": [
      "max_features를 잘 구현해 주셨습니다. 이어서 진행하셔도 좋습니다.\n"
     ]
    }
   ],
   "source": [
    "# max_features 값을 float 형식으로 랜덤하게 10개의 원소를 갖는 리스트 형태로 만들어졌는지 확인합니다.\n",
    "# 다음의 코드를 실행해서 확인합니다.\n",
    "# 아래의 코드를 실행해서 확인을 해주어야 제출파일을 작성할 수 있으니 꼭 확인해 주세요!\n",
    "checker.check_max_features(param_distributions)"
   ]
  },
  {
   "cell_type": "markdown",
   "metadata": {
    "ExecuteTime": {
     "end_time": "2020-05-24T11:00:00.079873Z",
     "start_time": "2020-05-24T11:00:00.071595Z"
    }
   },
   "source": [
    "### <font color=\"red\">TODO 4</font> RandomizedSearchCV 구현하기\n",
    "* RandomizedSearchCV 를 정의해 주세요.\n",
    "* cv값은 3개 이상으로 구현해 주세요. 조각이 너무 많으면 오래 걸릴 수 있습니다. \n",
    "* cv값을 3개로 구현했을 때 너무 오래 걸리지 않는다면 조각의 수를 늘려주셔도 됩니다.\n",
    "* <font color=\"blue\">n_iter를 5로 설정하고 cv를 3으로 설정하면 하나의 모델을 학습할 때 15번의 fit</font>을 하게 됩니다.\n",
    "* n_iter의 값을 많이 설정할 수록 더 많은 파라메터를 테스트할 수 있습니다.\n",
    "* 또, n_iter의 값을 더 크게 설정한다면 파라메터의 갯수도 그 만큼 늘려주어야 많은 파라메터 중 성능이 좋은 파라메터를 찾을 수 있습니다.\n",
    "* 아래의 코드 실행 시 <font color=\"red\">시간이 너무 오래 걸린다면 google colaboratory</font> 를 통해 실습하시는 것을 권장드립니다."
   ]
  },
  {
   "cell_type": "code",
   "execution_count": 24,
   "metadata": {
    "ExecuteTime": {
     "end_time": "2020-05-24T12:56:18.624638Z",
     "start_time": "2020-05-24T12:55:38.278Z"
    },
    "scrolled": true
   },
   "outputs": [
    {
     "name": "stdout",
     "output_type": "stream",
     "text": [
      "Fitting 5 folds for each of 5 candidates, totalling 25 fits\n",
      "Fitting 5 folds for each of 5 candidates, totalling 25 fits\n",
      "Fitting 5 folds for each of 5 candidates, totalling 25 fits\n"
     ]
    }
   ],
   "source": [
    "# RandomizedSearchCV 를 통해 위에서 정의한 모델과 해당 모델의 최적의 파라메터값을 찾아봅니다.\n",
    "# 여러 모델을 cross validation으로 비교하기 때문에 CPU, 메모리의 성능에 따라 10분 이상이 걸릴 수도 있습니다.\n",
    "# 시간이 너무 오래 걸린다면 google colaboratory 를 통해 실습하시는 것을 권장드립니다.\n",
    "\n",
    "from sklearn.model_selection import RandomizedSearchCV\n",
    "\n",
    "results = []\n",
    "for estimator in estimators:\n",
    "    result = []\n",
    "\n",
    "    param_distributions = make_params()\n",
    "\n",
    "    # 밑줄을 채워 코드를 완성해 주세요.\n",
    "    regressor = RandomizedSearchCV(estimator,\n",
    "        param_distributions,\n",
    "        n_iter=5,\n",
    "        scoring=None,\n",
    "        n_jobs=-1,\n",
    "        cv=5, # 밑줄을 채워 코드를 완성해 주세요.\n",
    "        verbose=2, \n",
    "        random_state=42)\n",
    "\n",
    "    regressor.fit(X_train, y_train)\n",
    "    \n",
    "    result.append(estimator.__class__.__name__)\n",
    "    result.append(regressor.best_params_)\n",
    "    result.append(regressor.best_estimator_)\n",
    "    result.append(regressor.best_score_)\n",
    "    result.append(regressor.cv_results_)\n",
    "    results.append(result)"
   ]
  },
  {
   "cell_type": "markdown",
   "metadata": {},
   "source": [
    "#### <font color=\"blue\">TODO 4 Self Review</font>\n",
    "* 크로스밸리데이션의 조각 수 확인"
   ]
  },
  {
   "cell_type": "code",
   "execution_count": 25,
   "metadata": {
    "ExecuteTime": {
     "end_time": "2020-05-24T12:56:01.768407Z",
     "start_time": "2020-05-24T12:56:01.745702Z"
    }
   },
   "outputs": [
    {
     "name": "stdout",
     "output_type": "stream",
     "text": [
      "cross validation을 여러개의 조각으로 잘 나누어 주셨습니다. 이어서 진행하셔도 좋습니다.\n"
     ]
    }
   ],
   "source": [
    "# 크로스밸리데이션의 조각의 수를 설정하는 cv 값이 설정되었는지 다음의 코드를 실행해서 확인합니다.\n",
    "# cv값이 3개 이상으로 설정되어 있어야 합니다.\n",
    "# 아래의 코드를 실행해서 확인을 해주어야 제출파일을 작성할 수 있으니 꼭 확인해 주세요!\n",
    "checker.check_cv(regressor)"
   ]
  },
  {
   "cell_type": "markdown",
   "metadata": {},
   "source": [
    "### 결과를 데이터프레임 형태로 만들기"
   ]
  },
  {
   "cell_type": "code",
   "execution_count": 26,
   "metadata": {
    "ExecuteTime": {
     "end_time": "2020-05-24T12:56:02.137009Z",
     "start_time": "2020-05-24T12:56:01.780743Z"
    }
   },
   "outputs": [
    {
     "data": {
      "text/html": [
       "<div>\n",
       "<style scoped>\n",
       "    .dataframe tbody tr th:only-of-type {\n",
       "        vertical-align: middle;\n",
       "    }\n",
       "\n",
       "    .dataframe tbody tr th {\n",
       "        vertical-align: top;\n",
       "    }\n",
       "\n",
       "    .dataframe thead th {\n",
       "        text-align: right;\n",
       "    }\n",
       "</style>\n",
       "<table border=\"1\" class=\"dataframe\">\n",
       "  <thead>\n",
       "    <tr style=\"text-align: right;\">\n",
       "      <th></th>\n",
       "      <th>model</th>\n",
       "      <th>params</th>\n",
       "      <th>estimator</th>\n",
       "      <th>score</th>\n",
       "      <th>cv_result</th>\n",
       "    </tr>\n",
       "  </thead>\n",
       "  <tbody>\n",
       "    <tr>\n",
       "      <th>1</th>\n",
       "      <td>RandomForestRegressor</td>\n",
       "      <td>{'max_features': 0.7470074718061842, 'max_dept...</td>\n",
       "      <td>(DecisionTreeRegressor(max_depth=14, max_featu...</td>\n",
       "      <td>0.748628</td>\n",
       "      <td>{'mean_fit_time': [5.913184881210327, 6.875609...</td>\n",
       "    </tr>\n",
       "    <tr>\n",
       "      <th>2</th>\n",
       "      <td>GradientBoostingRegressor</td>\n",
       "      <td>{'max_features': 0.5570958387015534, 'max_dept...</td>\n",
       "      <td>([DecisionTreeRegressor(criterion='friedman_ms...</td>\n",
       "      <td>0.734019</td>\n",
       "      <td>{'mean_fit_time': [13.27549605369568, 10.38662...</td>\n",
       "    </tr>\n",
       "    <tr>\n",
       "      <th>0</th>\n",
       "      <td>DecisionTreeRegressor</td>\n",
       "      <td>{'max_features': 0.7085243943627507, 'max_dept...</td>\n",
       "      <td>DecisionTreeRegressor(max_depth=22, max_featur...</td>\n",
       "      <td>0.491381</td>\n",
       "      <td>{'mean_fit_time': [0.12586374282836915, 0.1290...</td>\n",
       "    </tr>\n",
       "  </tbody>\n",
       "</table>\n",
       "</div>"
      ],
      "text/plain": [
       "                       model  \\\n",
       "1      RandomForestRegressor   \n",
       "2  GradientBoostingRegressor   \n",
       "0      DecisionTreeRegressor   \n",
       "\n",
       "                                              params  \\\n",
       "1  {'max_features': 0.7470074718061842, 'max_dept...   \n",
       "2  {'max_features': 0.5570958387015534, 'max_dept...   \n",
       "0  {'max_features': 0.7085243943627507, 'max_dept...   \n",
       "\n",
       "                                           estimator     score  \\\n",
       "1  (DecisionTreeRegressor(max_depth=14, max_featu...  0.748628   \n",
       "2  ([DecisionTreeRegressor(criterion='friedman_ms...  0.734019   \n",
       "0  DecisionTreeRegressor(max_depth=22, max_featur...  0.491381   \n",
       "\n",
       "                                           cv_result  \n",
       "1  {'mean_fit_time': [5.913184881210327, 6.875609...  \n",
       "2  {'mean_fit_time': [13.27549605369568, 10.38662...  \n",
       "0  {'mean_fit_time': [0.12586374282836915, 0.1290...  "
      ]
     },
     "execution_count": 26,
     "metadata": {},
     "output_type": "execute_result"
    }
   ],
   "source": [
    "df_cv = pd.DataFrame(results)\n",
    "df_cv.columns = [\"model\", \"params\", \"estimator\", \"score\", \"cv_result\"]\n",
    "df_cv = df_cv.sort_values(\"score\", ascending=False)\n",
    "df_cv"
   ]
  },
  {
   "cell_type": "markdown",
   "metadata": {},
   "source": [
    "### 가장 좋은 성능을 내는 estimator 찾기"
   ]
  },
  {
   "cell_type": "code",
   "execution_count": 27,
   "metadata": {
    "ExecuteTime": {
     "end_time": "2020-05-24T12:56:02.153723Z",
     "start_time": "2020-05-24T12:56:02.142795Z"
    }
   },
   "outputs": [
    {
     "data": {
      "text/plain": [
       "RandomForestRegressor(max_depth=14, max_features=0.7470074718061842,\n",
       "                      random_state=42)"
      ]
     },
     "execution_count": 27,
     "metadata": {},
     "output_type": "execute_result"
    }
   ],
   "source": [
    "best_estimator = df_cv.iloc[0][\"estimator\"]\n",
    "best_estimator"
   ]
  },
  {
   "cell_type": "markdown",
   "metadata": {},
   "source": [
    "## 학습(훈련)\n",
    "* 시험을 볼 때 기출문제(X_train)와 정답(y_train)을 보고 공부하는 과정과 유사합니다."
   ]
  },
  {
   "cell_type": "code",
   "execution_count": 28,
   "metadata": {
    "ExecuteTime": {
     "end_time": "2020-05-24T12:56:05.637110Z",
     "start_time": "2020-05-24T12:56:02.162759Z"
    },
    "scrolled": false
   },
   "outputs": [
    {
     "data": {
      "text/plain": [
       "RandomForestRegressor(max_depth=14, max_features=0.7470074718061842,\n",
       "                      random_state=42)"
      ]
     },
     "execution_count": 28,
     "metadata": {},
     "output_type": "execute_result"
    }
   ],
   "source": [
    "best_estimator.fit(X_train, y_train)"
   ]
  },
  {
   "cell_type": "markdown",
   "metadata": {},
   "source": [
    "## cross validation 으로 학습 세트의 오차 측정하기"
   ]
  },
  {
   "cell_type": "code",
   "execution_count": 29,
   "metadata": {
    "ExecuteTime": {
     "end_time": "2020-05-24T12:56:13.193337Z",
     "start_time": "2020-05-24T12:56:05.639547Z"
    }
   },
   "outputs": [
    {
     "name": "stderr",
     "output_type": "stream",
     "text": [
      "[Parallel(n_jobs=-1)]: Using backend LokyBackend with 8 concurrent workers.\n",
      "[Parallel(n_jobs=-1)]: Done   2 out of   5 | elapsed:    5.0s remaining:    7.5s\n",
      "[Parallel(n_jobs=-1)]: Done   5 out of   5 | elapsed:    5.1s remaining:    0.0s\n",
      "[Parallel(n_jobs=-1)]: Done   5 out of   5 | elapsed:    5.1s finished\n"
     ]
    },
    {
     "data": {
      "text/plain": [
       "array([77.23544008, 62.67146239, 73.55726601, 92.61194879, 86.47088741])"
      ]
     },
     "execution_count": 29,
     "metadata": {},
     "output_type": "execute_result"
    }
   ],
   "source": [
    "# train set와 valid set를 나눠 cross validation으로 train set으로 학습한 모델을 검증합니다.\n",
    "# test 점수를 예측하기 전에 \n",
    "from sklearn.model_selection import cross_val_predict\n",
    "\n",
    "y_valid_predict = cross_val_predict(best_estimator, X_train, y_train, cv=5, verbose=2, n_jobs=-1)\n",
    "y_valid_predict[:5]"
   ]
  },
  {
   "cell_type": "code",
   "execution_count": 30,
   "metadata": {
    "ExecuteTime": {
     "end_time": "2020-05-24T12:56:13.932968Z",
     "start_time": "2020-05-24T12:56:13.196528Z"
    }
   },
   "outputs": [
    {
     "name": "stderr",
     "output_type": "stream",
     "text": [
      "E:\\anaconda3\\lib\\site-packages\\seaborn\\_decorators.py:36: FutureWarning: Pass the following variables as keyword args: x, y. From version 0.12, the only valid positional argument will be `data`, and passing other arguments without an explicit keyword will result in an error or misinterpretation.\n",
      "  warnings.warn(\n"
     ]
    },
    {
     "data": {
      "text/plain": [
       "<AxesSubplot:xlabel='허리둘레'>"
      ]
     },
     "execution_count": 30,
     "metadata": {},
     "output_type": "execute_result"
    },
    {
     "data": {
      "image/png": "[encoded data removed]",
      "text/plain": [
       "<Figure size 432x288 with 1 Axes>"
      ]
     },
     "metadata": {
      "image/png": {
       "height": 263,
       "width": 373
      },
      "needs_background": "light"
     },
     "output_type": "display_data"
    }
   ],
   "source": [
    "# regplot 으로 결과 값을 비교합니다.\n",
    "# 회귀선에서 멀리 떨어질 수록 실제값과 예측값의 차이가 많이 납니다.\n",
    "# 회귀선에 가까울수록 실제값과 예측값의 차이가 작습니다.\n",
    "\n",
    "sns.regplot(y_train, y_valid_predict)"
   ]
  },
  {
   "cell_type": "code",
   "execution_count": 31,
   "metadata": {
    "ExecuteTime": {
     "end_time": "2020-05-24T12:56:13.945282Z",
     "start_time": "2020-05-24T12:56:13.935169Z"
    }
   },
   "outputs": [
    {
     "data": {
      "text/plain": [
       "0.7492483084576258"
      ]
     },
     "execution_count": 31,
     "metadata": {},
     "output_type": "execute_result"
    }
   ],
   "source": [
    "# r2_score 를 구합니다. 1에 가까울 수록 정확도가 높습니다.\n",
    "# 0.75 이상의 값이 나오는지 확인합니다.\n",
    "\n",
    "from sklearn.metrics import r2_score\n",
    "\n",
    "r2_score(y_train, y_valid_predict)"
   ]
  },
  {
   "cell_type": "code",
   "execution_count": 32,
   "metadata": {
    "ExecuteTime": {
     "end_time": "2020-05-24T12:56:14.195708Z",
     "start_time": "2020-05-24T12:56:13.950221Z"
    }
   },
   "outputs": [
    {
     "name": "stderr",
     "output_type": "stream",
     "text": [
      "E:\\anaconda3\\lib\\site-packages\\seaborn\\distributions.py:2619: FutureWarning: `distplot` is a deprecated function and will be removed in a future version. Please adapt your code to use either `displot` (a figure-level function with similar flexibility) or `kdeplot` (an axes-level function for kernel density plots).\n",
      "  warnings.warn(msg, FutureWarning)\n",
      "E:\\anaconda3\\lib\\site-packages\\seaborn\\distributions.py:2619: FutureWarning: `distplot` is a deprecated function and will be removed in a future version. Please adapt your code to use either `displot` (a figure-level function with similar flexibility) or `kdeplot` (an axes-level function for kernel density plots).\n",
      "  warnings.warn(msg, FutureWarning)\n"
     ]
    },
    {
     "data": {
      "text/plain": [
       "<AxesSubplot:xlabel='허리둘레', ylabel='Density'>"
      ]
     },
     "execution_count": 32,
     "metadata": {},
     "output_type": "execute_result"
    },
    {
     "data": {
      "image/png": "[encoded data removed]",
      "text/plain": [
       "<Figure size 432x288 with 1 Axes>"
      ]
     },
     "metadata": {
      "image/png": {
       "height": 263,
       "width": 389
      },
      "needs_background": "light"
     },
     "output_type": "display_data"
    }
   ],
   "source": [
    "# distplot으로 정답값과 예측값의 분포를 그립니다.\n",
    "\n",
    "sns.distplot(y_train, hist=False, label=\"train\")\n",
    "sns.distplot(y_valid_predict, hist=False, label=\"predict\")"
   ]
  },
  {
   "cell_type": "markdown",
   "metadata": {},
   "source": [
    "## 예측\n",
    "* 실전 시험문제(X_test)라고 보면 됩니다. 우리가 정답을 직접 예측합니다."
   ]
  },
  {
   "cell_type": "code",
   "execution_count": 33,
   "metadata": {
    "ExecuteTime": {
     "end_time": "2020-05-24T12:56:14.249626Z",
     "start_time": "2020-05-24T12:56:14.198883Z"
    }
   },
   "outputs": [
    {
     "data": {
      "text/plain": [
       "array([85.24257436, 76.44655762, 84.07071365, 90.06695586, 76.25311907])"
      ]
     },
     "execution_count": 33,
     "metadata": {},
     "output_type": "execute_result"
    }
   ],
   "source": [
    "# 위에서 찾은 best_estimator 를 통해 실제값을 예측합니다.\n",
    "y_predict = best_estimator.predict(X_test)\n",
    "y_predict[:5]"
   ]
  },
  {
   "cell_type": "markdown",
   "metadata": {},
   "source": [
    "## 트리 알고리즘 분석하기\n",
    "* 의사결정나무를 시각화 합니다."
   ]
  },
  {
   "cell_type": "code",
   "execution_count": 34,
   "metadata": {
    "ExecuteTime": {
     "end_time": "2020-05-24T12:56:14.274721Z",
     "start_time": "2020-05-24T12:56:14.252335Z"
    }
   },
   "outputs": [
    {
     "data": {
      "text/plain": [
       "array([4.74964303e-02, 8.29034077e-02, 9.91709423e-03, 3.55167388e-02,\n",
       "       5.93519816e-01, 9.28776455e-03, 9.61798972e-03, 4.92252036e-04,\n",
       "       3.40498602e-04, 1.55383105e-02, 1.21798514e-02, 1.74480852e-02,\n",
       "       1.35354719e-02, 2.40525423e-02, 1.62554746e-02, 1.51639144e-02,\n",
       "       1.52414554e-02, 1.39369783e-03, 8.58669377e-03, 1.26172611e-02,\n",
       "       2.41467975e-02, 2.85639157e-02, 2.15619563e-03, 1.88860321e-03,\n",
       "       2.13973770e-03])"
      ]
     },
     "execution_count": 34,
     "metadata": {},
     "output_type": "execute_result"
    }
   ],
   "source": [
    "# 피처의 중요도를 추출하기\n",
    "feature_importance = best_estimator.feature_importances_\n",
    "feature_importance"
   ]
  },
  {
   "cell_type": "markdown",
   "metadata": {},
   "source": [
    "## 피처의 중요도 시각화"
   ]
  },
  {
   "cell_type": "code",
   "execution_count": 35,
   "metadata": {
    "ExecuteTime": {
     "end_time": "2020-05-24T12:56:14.640582Z",
     "start_time": "2020-05-24T12:56:14.278272Z"
    }
   },
   "outputs": [
    {
     "data": {
      "text/plain": [
       "<AxesSubplot:>"
      ]
     },
     "execution_count": 35,
     "metadata": {},
     "output_type": "execute_result"
    },
    {
     "data": {
      "image/png": "[encoded data removed]",
      "text/plain": [
       "<Figure size 432x288 with 1 Axes>"
      ]
     },
     "metadata": {
      "image/png": {
       "height": 249,
       "width": 447
      },
      "needs_background": "light"
     },
     "output_type": "display_data"
    }
   ],
   "source": [
    "# 피처의 중요도 시각화 하기\n",
    "sns.barplot(x=feature_importance, y=feature_names)"
   ]
  },
  {
   "cell_type": "markdown",
   "metadata": {},
   "source": [
    "## 예측값과 실제값 비교하기"
   ]
  },
  {
   "cell_type": "code",
   "execution_count": 36,
   "metadata": {
    "ExecuteTime": {
     "end_time": "2020-05-24T12:56:14.660782Z",
     "start_time": "2020-05-24T12:56:14.643827Z"
    }
   },
   "outputs": [
    {
     "data": {
      "text/html": [
       "<div>\n",
       "<style scoped>\n",
       "    .dataframe tbody tr th:only-of-type {\n",
       "        vertical-align: middle;\n",
       "    }\n",
       "\n",
       "    .dataframe tbody tr th {\n",
       "        vertical-align: top;\n",
       "    }\n",
       "\n",
       "    .dataframe thead th {\n",
       "        text-align: right;\n",
       "    }\n",
       "</style>\n",
       "<table border=\"1\" class=\"dataframe\">\n",
       "  <thead>\n",
       "    <tr style=\"text-align: right;\">\n",
       "      <th></th>\n",
       "      <th>test</th>\n",
       "      <th>predict</th>\n",
       "      <th>error</th>\n",
       "    </tr>\n",
       "  </thead>\n",
       "  <tbody>\n",
       "    <tr>\n",
       "      <th>6252</th>\n",
       "      <td>82.0</td>\n",
       "      <td>85.242574</td>\n",
       "      <td>3.242574</td>\n",
       "    </tr>\n",
       "    <tr>\n",
       "      <th>4684</th>\n",
       "      <td>80.5</td>\n",
       "      <td>76.446558</td>\n",
       "      <td>4.053442</td>\n",
       "    </tr>\n",
       "    <tr>\n",
       "      <th>1731</th>\n",
       "      <td>82.0</td>\n",
       "      <td>84.070714</td>\n",
       "      <td>2.070714</td>\n",
       "    </tr>\n",
       "    <tr>\n",
       "      <th>4742</th>\n",
       "      <td>90.0</td>\n",
       "      <td>90.066956</td>\n",
       "      <td>0.066956</td>\n",
       "    </tr>\n",
       "    <tr>\n",
       "      <th>4521</th>\n",
       "      <td>83.8</td>\n",
       "      <td>76.253119</td>\n",
       "      <td>7.546881</td>\n",
       "    </tr>\n",
       "  </tbody>\n",
       "</table>\n",
       "</div>"
      ],
      "text/plain": [
       "      test    predict     error\n",
       "6252  82.0  85.242574  3.242574\n",
       "4684  80.5  76.446558  4.053442\n",
       "1731  82.0  84.070714  2.070714\n",
       "4742  90.0  90.066956  0.066956\n",
       "4521  83.8  76.253119  7.546881"
      ]
     },
     "execution_count": 36,
     "metadata": {},
     "output_type": "execute_result"
    }
   ],
   "source": [
    "pd.DataFrame({\"test\" : y_test, \n",
    "              \"predict\" : y_predict,\n",
    "              \"error\" : abs(y_test-y_predict)\n",
    "             }).head()"
   ]
  },
  {
   "cell_type": "markdown",
   "metadata": {},
   "source": [
    "## 정확도(MAE) 측정하기"
   ]
  },
  {
   "cell_type": "code",
   "execution_count": 37,
   "metadata": {
    "ExecuteTime": {
     "end_time": "2020-05-24T12:56:14.676257Z",
     "start_time": "2020-05-24T12:56:14.663814Z"
    }
   },
   "outputs": [
    {
     "data": {
      "text/plain": [
       "3.8010551402908495"
      ]
     },
     "execution_count": 37,
     "metadata": {},
     "output_type": "execute_result"
    }
   ],
   "source": [
    "abs(y_test - y_predict).sum() / len(y_predict)"
   ]
  },
  {
   "cell_type": "code",
   "execution_count": 38,
   "metadata": {
    "ExecuteTime": {
     "end_time": "2020-05-24T12:56:14.711146Z",
     "start_time": "2020-05-24T12:56:14.679922Z"
    }
   },
   "outputs": [
    {
     "data": {
      "text/plain": [
       "3.801055140290844"
      ]
     },
     "execution_count": 38,
     "metadata": {},
     "output_type": "execute_result"
    }
   ],
   "source": [
    "# 실제값 - 예측값을 빼주면 같은 값은 0으로 나오게 됩니다. \n",
    "# 여기에서 절대값을 씌운 값이 1인 값이 다르게 예측한 값이 됩니다.\n",
    "# diff_count 에 값을 넣어줍니다.\n",
    "mae = abs(y_test - y_predict).mean()\n",
    "mae"
   ]
  },
  {
   "cell_type": "code",
   "execution_count": 39,
   "metadata": {
    "ExecuteTime": {
     "end_time": "2020-05-24T12:56:14.743872Z",
     "start_time": "2020-05-24T12:56:14.724134Z"
    }
   },
   "outputs": [
    {
     "data": {
      "text/plain": [
       "3.8010551402908495"
      ]
     },
     "execution_count": 39,
     "metadata": {},
     "output_type": "execute_result"
    }
   ],
   "source": [
    "# 위에서 처럼 직접 구할 수도 있지만 미리 구현된 알고리즘을 가져와 사용합니다.\n",
    "from sklearn.metrics import mean_absolute_error\n",
    "\n",
    "mean_absolute_error(y_test, y_predict)"
   ]
  },
  {
   "cell_type": "markdown",
   "metadata": {},
   "source": [
    "## RMSE\n",
    "* [평균 제곱근 편차 - 위키백과, 우리 모두의 백과사전](https://ko.wikipedia.org/wiki/%ED%8F%89%EA%B7%A0_%EC%A0%9C%EA%B3%B1%EA%B7%BC_%ED%8E%B8%EC%B0%A8)\n",
    "\n",
    "### <font color=\"red\">TODO 5</font> RMSE로 오차 구하기\n",
    "* <font color=\"blue\">RMSE</font>로 오차를 구해서 5 이하의 값이 나오도록 합니다. 이 값은 낮을 수록 오류가 작습니다."
   ]
  },
  {
   "cell_type": "code",
   "execution_count": 40,
   "metadata": {
    "ExecuteTime": {
     "end_time": "2020-05-24T12:56:14.771837Z",
     "start_time": "2020-05-24T12:56:14.756052Z"
    }
   },
   "outputs": [
    {
     "data": {
      "text/plain": [
       "4.869956121217419"
      ]
     },
     "execution_count": 40,
     "metadata": {},
     "output_type": "execute_result"
    }
   ],
   "source": [
    "# 밑줄을 채워 코드를 완성해 주세요.\n",
    "from sklearn.metrics import mean_squared_error\n",
    "\n",
    "mse = mean_squared_error(y_test, y_predict)\n",
    "rmse = np.sqrt(mse)\n",
    "rmse"
   ]
  },
  {
   "cell_type": "markdown",
   "metadata": {},
   "source": [
    "#### <font color=\"blue\">TODO 5 Self Review</font>\n",
    "* RMSE가 5 이하의 값이 나오는지 확인합니다."
   ]
  },
  {
   "cell_type": "code",
   "execution_count": 41,
   "metadata": {
    "ExecuteTime": {
     "end_time": "2020-05-24T12:56:14.794571Z",
     "start_time": "2020-05-24T12:56:14.778338Z"
    }
   },
   "outputs": [
    {
     "name": "stdout",
     "output_type": "stream",
     "text": [
      "rmse 스코어가 기준점수보다 낮습니다. 이 값은 낮을 수록 오차가 작습니다. 이어서 진행하셔도 좋습니다.\n"
     ]
    }
   ],
   "source": [
    "# RMSE가 기준치 이하인지 확인합니다. 이 값은 낮을 수록 오류가 작습니다.\n",
    "# 다음의 코드를 실행해서 확인합니다.\n",
    "# 아래의 코드를 실행해서 확인을 해주어야 제출파일을 작성할 수 있으니 꼭 확인해 주세요!\n",
    "checker.check_rmse(rmse)"
   ]
  },
  {
   "cell_type": "markdown",
   "metadata": {},
   "source": [
    "## 실제값과 예측값 비교하기"
   ]
  },
  {
   "cell_type": "code",
   "execution_count": 42,
   "metadata": {
    "ExecuteTime": {
     "end_time": "2020-05-24T12:56:15.327307Z",
     "start_time": "2020-05-24T12:56:14.803583Z"
    },
    "scrolled": true
   },
   "outputs": [
    {
     "name": "stderr",
     "output_type": "stream",
     "text": [
      "E:\\anaconda3\\lib\\site-packages\\seaborn\\_decorators.py:36: FutureWarning: Pass the following variables as keyword args: x, y. From version 0.12, the only valid positional argument will be `data`, and passing other arguments without an explicit keyword will result in an error or misinterpretation.\n",
      "  warnings.warn(\n"
     ]
    },
    {
     "data": {
      "text/plain": [
       "<AxesSubplot:xlabel='허리둘레'>"
      ]
     },
     "execution_count": 42,
     "metadata": {},
     "output_type": "execute_result"
    },
    {
     "data": {
      "image/png": "[encoded data removed]",
      "text/plain": [
       "<Figure size 432x288 with 1 Axes>"
      ]
     },
     "metadata": {
      "image/png": {
       "height": 263,
       "width": 372
      },
      "needs_background": "light"
     },
     "output_type": "display_data"
    }
   ],
   "source": [
    "# regplot 으로 결과 값을 비교합니다.\n",
    "# 회귀선에서 멀리 떨어질 수록 실제값과 예측값의 차이가 많이 납니다.\n",
    "# 회귀선에 가까울수록 실제값과 예측값의 차이가 작습니다.\n",
    "\n",
    "sns.regplot(y_test, y_predict)"
   ]
  },
  {
   "cell_type": "markdown",
   "metadata": {},
   "source": [
    "### <font color=\"red\">TODO 6</font> r2_score로 결정계수 구하기\n",
    "* <font color=\"blue\">r2_score</font>로 결정계수를 구해서 0.70 이상이 나오도록 합니다. 이 값은 1에 가까울 수록 정확도가 높습니다.\n",
    "\n",
    "\n",
    "* [결정계수 - 위키백과, 우리 모두의 백과사전](https://ko.wikipedia.org/wiki/%EA%B2%B0%EC%A0%95%EA%B3%84%EC%88%98)\n",
    "* [Coefficient of determination - Wikipedia](https://en.wikipedia.org/wiki/Coefficient_of_determination)"
   ]
  },
  {
   "cell_type": "code",
   "execution_count": 43,
   "metadata": {
    "ExecuteTime": {
     "end_time": "2020-05-24T12:56:15.339994Z",
     "start_time": "2020-05-24T12:56:15.331163Z"
    }
   },
   "outputs": [
    {
     "data": {
      "text/plain": [
       "0.7548745348935868"
      ]
     },
     "execution_count": 43,
     "metadata": {},
     "output_type": "execute_result"
    }
   ],
   "source": [
    "# 밑줄을 채워 코드를 완성해 주세요.\n",
    "r2 = r2_score(y_test, y_predict)\n",
    "r2"
   ]
  },
  {
   "cell_type": "markdown",
   "metadata": {},
   "source": [
    "#### <font color=\"blue\">TODO 6 Self Review</font>\n",
    "* r2_score로 결정계수를 구해서 0.70 이상이 나오는지 확인합니다. 이 값은 1에 가까울 수록 정확도가 높습니다."
   ]
  },
  {
   "cell_type": "code",
   "execution_count": 44,
   "metadata": {
    "ExecuteTime": {
     "end_time": "2020-05-24T12:56:15.361960Z",
     "start_time": "2020-05-24T12:56:15.343333Z"
    }
   },
   "outputs": [
    {
     "name": "stdout",
     "output_type": "stream",
     "text": [
      "r2 스코어가 기준점수 보다 높습니다. 이 값은 1에 가까울수록 오차가 작습니다. 이어서 진행하셔도 좋습니다.\n"
     ]
    }
   ],
   "source": [
    "# r2_score로 결정계수 값을 기준치 이상으로 구현했는지 확인합니다.\n",
    "# 다음의 코드를 실행해서 확인합니다.\n",
    "# 아래의 코드를 실행해서 확인을 해주어야 제출파일을 작성할 수 있으니 꼭 확인해 주세요!\n",
    "\n",
    "checker.check_r2_score(r2)"
   ]
  },
  {
   "cell_type": "code",
   "execution_count": 45,
   "metadata": {
    "ExecuteTime": {
     "end_time": "2020-05-24T12:56:15.628278Z",
     "start_time": "2020-05-24T12:56:15.366480Z"
    }
   },
   "outputs": [
    {
     "name": "stderr",
     "output_type": "stream",
     "text": [
      "E:\\anaconda3\\lib\\site-packages\\seaborn\\distributions.py:2619: FutureWarning: `distplot` is a deprecated function and will be removed in a future version. Please adapt your code to use either `displot` (a figure-level function with similar flexibility) or `kdeplot` (an axes-level function for kernel density plots).\n",
      "  warnings.warn(msg, FutureWarning)\n",
      "E:\\anaconda3\\lib\\site-packages\\seaborn\\distributions.py:2103: FutureWarning: The `axis` variable is no longer used and will be removed. Instead, assign variables directly to `x` or `y`.\n",
      "  warnings.warn(msg, FutureWarning)\n",
      "E:\\anaconda3\\lib\\site-packages\\seaborn\\distributions.py:2619: FutureWarning: `distplot` is a deprecated function and will be removed in a future version. Please adapt your code to use either `displot` (a figure-level function with similar flexibility) or `kdeplot` (an axes-level function for kernel density plots).\n",
      "  warnings.warn(msg, FutureWarning)\n",
      "E:\\anaconda3\\lib\\site-packages\\seaborn\\distributions.py:2103: FutureWarning: The `axis` variable is no longer used and will be removed. Instead, assign variables directly to `x` or `y`.\n",
      "  warnings.warn(msg, FutureWarning)\n"
     ]
    },
    {
     "data": {
      "text/plain": [
       "<AxesSubplot:xlabel='허리둘레', ylabel='Density'>"
      ]
     },
     "execution_count": 45,
     "metadata": {},
     "output_type": "execute_result"
    },
    {
     "data": {
      "image/png": "[encoded data removed]",
      "text/plain": [
       "<Figure size 432x288 with 1 Axes>"
      ]
     },
     "metadata": {
      "image/png": {
       "height": 263,
       "width": 389
      },
      "needs_background": "light"
     },
     "output_type": "display_data"
    }
   ],
   "source": [
    "# 실제값과 예측값이 얼마나 차이가 나는지 비교해 봅니다.\n",
    "sns.distplot(y_test, hist=False, rug=True, label=\"실제값\")\n",
    "sns.distplot(y_predict, hist=False, rug=True, label=\"예측값\")"
   ]
  },
  {
   "cell_type": "markdown",
   "metadata": {},
   "source": [
    "## 프로젝트 제출 파일 만들기\n",
    "* 아래의 코드를 실행하기 전에 <font color=\"red\">실습한 주피터 노트북을 저장 버튼을 누르거나 다음의 단축키로 (ctrl/cmd + s) 저장</font>해 주세요. \n",
    "* 아래의 코드를 실행해 주세요. \n",
    "* 프로젝트 제출 파일이 생성됩니다.\n",
    "* `제출파일 자동생성`은 주피터 익스텐션이 설치되어 있어야 실행이 가능합니다.\n",
    "* 주피터 익스텐션은 다음의 방법으로 설치 가능합니다.\n",
    "* 주피터 노트북의 `홈화면에서 > 오른쪽 상단 > New > Ternimal`로 설치해 주세요.\n",
    "    * pip install jupyter_contrib_nbextensions\n",
    "    * conda install jupyter_contrib_nbextensions\n",
    "* submit 폴더에 다음 두 개의 파일이 생성되어 있어야 제출 파일이 제대로 생성된 것입니다.\n",
    "    * health-regression-project.html\n",
    "    * regression_submission.csv\n",
    "* html 파일이 submit 폴더에 생성되지 않았다면 주피터 노트북의 `메뉴 > File > Download as > HTML(.html)` 을 통해 html 파일을 생성해 주시고 shubmit 폴더에 저장 후 압축해서 제출해 주세요."
   ]
  },
  {
   "cell_type": "code",
   "execution_count": 46,
   "metadata": {},
   "outputs": [
    {
     "name": "stdout",
     "output_type": "stream",
     "text": [
      "[ Self-Check ] Submit 파일 생성완료! 위치: 'submit'\n",
      "[ Self-Check ] 시스템: Windows\n",
      "[ Self-Check ] submit.zip 생성 완료!\n",
      "[ Self-Check ] 모든 평가기준을 통과했습니다. 압축파일을 제출해주세요!\n"
     ]
    }
   ],
   "source": [
    "# 아래의 코드를 실행해서 프로젝트가 잘 작성되었는지 확인해 주세요.\n",
    "# TODO 항목이 잘 구현되었다면 아래의 코드는 submit.zip 파일로 제출파일을 생성합니다.\n",
    "# TODO 항목을 만족하지 않는다면 구현해야할 목록이 출력됩니다.\n",
    "# 실행시간이 조금 오래 걸릴 수도 있습니다. 오류가 나지 않는다면 최대 30초 정도 기다려주세요!\n",
    "checker.check_submit()"
   ]
  },
  {
   "cell_type": "code",
   "execution_count": null,
   "metadata": {},
   "outputs": [],
   "source": []
  }
 ],
 "metadata": {
  "kernelspec": {
   "display_name": "Python 3 (ipykernel)",
   "language": "python",
   "name": "python3"
  },
  "language_info": {
   "codemirror_mode": {
    "name": "ipython",
    "version": 3
   },
   "file_extension": ".py",
   "mimetype": "text/x-python",
   "name": "python",
   "nbconvert_exporter": "python",
   "pygments_lexer": "ipython3",
   "version": "3.9.7"
  },
  "toc": {
   "base_numbering": 1,
   "nav_menu": {},
   "number_sections": true,
   "sideBar": true,
   "skip_h1_title": false,
   "title_cell": "Table of Contents",
   "title_sidebar": "Contents",
   "toc_cell": false,
   "toc_position": {
    "height": "calc(100% - 180px)",
    "left": "10px",
    "top": "150px",
    "width": "255.99px"
   },
   "toc_section_display": true,
   "toc_window_display": false
  },
  "varInspector": {
   "cols": {
    "lenName": 16,
    "lenType": 16,
    "lenVar": 40
   },
   "kernels_config": {
    "python": {
     "delete_cmd_postfix": "",
     "delete_cmd_prefix": "del ",
     "library": "var_list.py",
     "varRefreshCmd": "print(var_dic_list())"
    },
    "r": {
     "delete_cmd_postfix": ") ",
     "delete_cmd_prefix": "rm(",
     "library": "var_list.r",
     "varRefreshCmd": "cat(var_dic_list()) "
    }
   },
   "types_to_exclude": [
    "module",
    "function",
    "builtin_function_or_method",
    "instance",
    "_Feature"
   ],
   "window_display": false
  }
 },
 "nbformat": 4,
 "nbformat_minor": 2
}
