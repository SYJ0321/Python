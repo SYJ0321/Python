{
 "cells": [
  {
   "cell_type": "markdown",
   "metadata": {},
   "source": [
    "[![Open In Colab](https://colab.research.google.com/assets/colab-badge.svg)](https://colab.research.google.com/github/corazzon/boostcourse-ds-511/blob/master/pima-classification-baseline-03.ipynb)\n",
    "\n",
    "\n",
    "## 데이터셋 출처\n",
    "* [Pima Indians Diabetes Database | Kaggle](https://www.kaggle.com/uciml/pima-indians-diabetes-database)\n",
    "* https://scikit-learn.org/stable/modules/generated/sklearn.datasets.load_diabetes.html\n",
    "\n",
    "\n",
    "### 데이터 구성\n",
    "\n",
    "* Pregnancies : 임신 횟수\n",
    "* Glucose : 2시간 동안의 경구 포도당 내성 검사에서 혈장 포도당 농도 \n",
    "* BloodPressure : 이완기 혈압 (mm Hg)\n",
    "* SkinThickness : 삼두근 피부 주름 두께 (mm), 체지방을 추정하는데 사용되는 값\n",
    "* Insulin : 2시간 혈청 인슐린 (mu U / ml)\n",
    "* BMI : 체질량 지수 (체중kg / 키(m)^2)\n",
    "* DiabetesPedigreeFunction : 당뇨병 혈통 기능\n",
    "* Age : 나이\n",
    "* Outcome : 768개 중에 268개의 결과 클래스 변수(0 또는 1)는 1이고 나머지는 0입니다.\n",
    "\n",
    "\n",
    "## 필요한 라이브러리 로드"
   ]
  },
  {
   "cell_type": "code",
   "execution_count": 1,
   "metadata": {},
   "outputs": [],
   "source": [
    "# 데이터 분석을 위한 pandas, 수치계산을 위한 numpy\n",
    "# 시각화를 위한 seaborn, matplotlib.pyplot 을 로드합니다. \n",
    "\n",
    "import pandas as pd\n",
    "import numpy as np\n",
    "import seaborn as sns\n",
    "import matplotlib.pyplot as plt\n",
    "\n",
    "%matplotlib inline"
   ]
  },
  {
   "cell_type": "markdown",
   "metadata": {},
   "source": [
    "## 데이터셋 로드"
   ]
  },
  {
   "cell_type": "code",
   "execution_count": 2,
   "metadata": {},
   "outputs": [
    {
     "data": {
      "text/plain": [
       "(768, 16)"
      ]
     },
     "execution_count": 2,
     "metadata": {},
     "output_type": "execute_result"
    }
   ],
   "source": [
    "df = pd.read_csv(\"data/diabetes_feature.csv\")\n",
    "df.shape"
   ]
  },
  {
   "cell_type": "code",
   "execution_count": 3,
   "metadata": {},
   "outputs": [
    {
     "data": {
      "text/html": [
       "<div>\n",
       "<style scoped>\n",
       "    .dataframe tbody tr th:only-of-type {\n",
       "        vertical-align: middle;\n",
       "    }\n",
       "\n",
       "    .dataframe tbody tr th {\n",
       "        vertical-align: top;\n",
       "    }\n",
       "\n",
       "    .dataframe thead th {\n",
       "        text-align: right;\n",
       "    }\n",
       "</style>\n",
       "<table border=\"1\" class=\"dataframe\">\n",
       "  <thead>\n",
       "    <tr style=\"text-align: right;\">\n",
       "      <th></th>\n",
       "      <th>Pregnancies</th>\n",
       "      <th>Glucose</th>\n",
       "      <th>BloodPressure</th>\n",
       "      <th>SkinThickness</th>\n",
       "      <th>Insulin</th>\n",
       "      <th>BMI</th>\n",
       "      <th>DiabetesPedigreeFunction</th>\n",
       "      <th>Age</th>\n",
       "      <th>Outcome</th>\n",
       "      <th>Pregnancies_high</th>\n",
       "      <th>Age_low</th>\n",
       "      <th>Age_middle</th>\n",
       "      <th>Age_high</th>\n",
       "      <th>Insulin_nan</th>\n",
       "      <th>Insulin_log</th>\n",
       "      <th>low_glu_insulin</th>\n",
       "    </tr>\n",
       "  </thead>\n",
       "  <tbody>\n",
       "    <tr>\n",
       "      <th>0</th>\n",
       "      <td>6</td>\n",
       "      <td>148</td>\n",
       "      <td>72</td>\n",
       "      <td>35</td>\n",
       "      <td>0</td>\n",
       "      <td>33.6</td>\n",
       "      <td>0.627</td>\n",
       "      <td>50</td>\n",
       "      <td>1</td>\n",
       "      <td>False</td>\n",
       "      <td>False</td>\n",
       "      <td>True</td>\n",
       "      <td>False</td>\n",
       "      <td>169.5</td>\n",
       "      <td>5.138735</td>\n",
       "      <td>False</td>\n",
       "    </tr>\n",
       "    <tr>\n",
       "      <th>1</th>\n",
       "      <td>1</td>\n",
       "      <td>85</td>\n",
       "      <td>66</td>\n",
       "      <td>29</td>\n",
       "      <td>0</td>\n",
       "      <td>26.6</td>\n",
       "      <td>0.351</td>\n",
       "      <td>31</td>\n",
       "      <td>0</td>\n",
       "      <td>False</td>\n",
       "      <td>False</td>\n",
       "      <td>True</td>\n",
       "      <td>False</td>\n",
       "      <td>102.5</td>\n",
       "      <td>4.639572</td>\n",
       "      <td>True</td>\n",
       "    </tr>\n",
       "    <tr>\n",
       "      <th>2</th>\n",
       "      <td>8</td>\n",
       "      <td>183</td>\n",
       "      <td>64</td>\n",
       "      <td>0</td>\n",
       "      <td>0</td>\n",
       "      <td>23.3</td>\n",
       "      <td>0.672</td>\n",
       "      <td>32</td>\n",
       "      <td>1</td>\n",
       "      <td>True</td>\n",
       "      <td>False</td>\n",
       "      <td>True</td>\n",
       "      <td>False</td>\n",
       "      <td>169.5</td>\n",
       "      <td>5.138735</td>\n",
       "      <td>False</td>\n",
       "    </tr>\n",
       "    <tr>\n",
       "      <th>3</th>\n",
       "      <td>1</td>\n",
       "      <td>89</td>\n",
       "      <td>66</td>\n",
       "      <td>23</td>\n",
       "      <td>94</td>\n",
       "      <td>28.1</td>\n",
       "      <td>0.167</td>\n",
       "      <td>21</td>\n",
       "      <td>0</td>\n",
       "      <td>False</td>\n",
       "      <td>True</td>\n",
       "      <td>False</td>\n",
       "      <td>False</td>\n",
       "      <td>94.0</td>\n",
       "      <td>4.553877</td>\n",
       "      <td>True</td>\n",
       "    </tr>\n",
       "    <tr>\n",
       "      <th>4</th>\n",
       "      <td>0</td>\n",
       "      <td>137</td>\n",
       "      <td>40</td>\n",
       "      <td>35</td>\n",
       "      <td>168</td>\n",
       "      <td>43.1</td>\n",
       "      <td>2.288</td>\n",
       "      <td>33</td>\n",
       "      <td>1</td>\n",
       "      <td>False</td>\n",
       "      <td>False</td>\n",
       "      <td>True</td>\n",
       "      <td>False</td>\n",
       "      <td>168.0</td>\n",
       "      <td>5.129899</td>\n",
       "      <td>False</td>\n",
       "    </tr>\n",
       "  </tbody>\n",
       "</table>\n",
       "</div>"
      ],
      "text/plain": [
       "   Pregnancies  Glucose  BloodPressure  SkinThickness  Insulin   BMI  \\\n",
       "0            6      148             72             35        0  33.6   \n",
       "1            1       85             66             29        0  26.6   \n",
       "2            8      183             64              0        0  23.3   \n",
       "3            1       89             66             23       94  28.1   \n",
       "4            0      137             40             35      168  43.1   \n",
       "\n",
       "   DiabetesPedigreeFunction  Age  Outcome  Pregnancies_high  Age_low  \\\n",
       "0                     0.627   50        1             False    False   \n",
       "1                     0.351   31        0             False    False   \n",
       "2                     0.672   32        1              True    False   \n",
       "3                     0.167   21        0             False     True   \n",
       "4                     2.288   33        1             False    False   \n",
       "\n",
       "   Age_middle  Age_high  Insulin_nan  Insulin_log  low_glu_insulin  \n",
       "0        True     False        169.5     5.138735            False  \n",
       "1        True     False        102.5     4.639572             True  \n",
       "2        True     False        169.5     5.138735            False  \n",
       "3       False     False         94.0     4.553877             True  \n",
       "4        True     False        168.0     5.129899            False  "
      ]
     },
     "execution_count": 3,
     "metadata": {},
     "output_type": "execute_result"
    }
   ],
   "source": [
    "# 데이터셋을 미리보기 합니다.\n",
    "\n",
    "df.head()"
   ]
  },
  {
   "cell_type": "markdown",
   "metadata": {},
   "source": [
    "## 학습과 예측에 사용할 데이터셋 만들기"
   ]
  },
  {
   "cell_type": "code",
   "execution_count": 4,
   "metadata": {},
   "outputs": [
    {
     "data": {
      "text/plain": [
       "Index(['Pregnancies', 'Glucose', 'BloodPressure', 'SkinThickness', 'Insulin',\n",
       "       'BMI', 'DiabetesPedigreeFunction', 'Age', 'Outcome', 'Pregnancies_high',\n",
       "       'Age_low', 'Age_middle', 'Age_high', 'Insulin_nan', 'Insulin_log',\n",
       "       'low_glu_insulin'],\n",
       "      dtype='object')"
      ]
     },
     "execution_count": 4,
     "metadata": {},
     "output_type": "execute_result"
    }
   ],
   "source": [
    "df.columns"
   ]
  },
  {
   "cell_type": "code",
   "execution_count": 5,
   "metadata": {},
   "outputs": [
    {
     "data": {
      "text/plain": [
       "(768, 9)"
      ]
     },
     "execution_count": 5,
     "metadata": {},
     "output_type": "execute_result"
    }
   ],
   "source": [
    "# feature들을 X에 담아준다.\n",
    "X = df[['Glucose', 'BloodPressure', 'SkinThickness',\n",
    "       'BMI', 'DiabetesPedigreeFunction', 'Age', 'Pregnancies_high',\n",
    "       'Insulin_nan', 'low_glu_insulin']]\n",
    "X.shape"
   ]
  },
  {
   "cell_type": "code",
   "execution_count": 6,
   "metadata": {},
   "outputs": [
    {
     "data": {
      "text/plain": [
       "(768,)"
      ]
     },
     "execution_count": 6,
     "metadata": {},
     "output_type": "execute_result"
    }
   ],
   "source": [
    "# Outcome을 y에 담아준다.\n",
    "y = df['Outcome']\n",
    "y.shape"
   ]
  },
  {
   "cell_type": "code",
   "execution_count": 7,
   "metadata": {},
   "outputs": [],
   "source": [
    "# 사이킷런에서 제공하는 model_selection 의 train_test_split 으로 만듭니다.\n",
    "# 랜덤하게 샘플링하여 가져온다.\n",
    "\n",
    "from sklearn.model_selection import train_test_split\n",
    "\n",
    "X_train, X_test, y_train, y_test = train_test_split(\n",
    "    X, y, test_size=0.2, random_state=42)"
   ]
  },
  {
   "cell_type": "code",
   "execution_count": 8,
   "metadata": {},
   "outputs": [
    {
     "data": {
      "text/plain": [
       "((614, 9), (614,))"
      ]
     },
     "execution_count": 8,
     "metadata": {},
     "output_type": "execute_result"
    }
   ],
   "source": [
    "# train 세트의 문제와 정답의 데이터 수를 확인해 주세요.\n",
    "\n",
    "X_train.shape, y_train.shape"
   ]
  },
  {
   "cell_type": "code",
   "execution_count": 9,
   "metadata": {},
   "outputs": [
    {
     "data": {
      "text/plain": [
       "((154, 9), (154,))"
      ]
     },
     "execution_count": 9,
     "metadata": {},
     "output_type": "execute_result"
    }
   ],
   "source": [
    "# test 세트의 문제와 정답의 데이터 수를 확인해 주세요.\n",
    "\n",
    "X_test.shape, y_test.shape"
   ]
  },
  {
   "cell_type": "markdown",
   "metadata": {},
   "source": [
    "## 최적의 모델 만들기"
   ]
  },
  {
   "cell_type": "code",
   "execution_count": 28,
   "metadata": {},
   "outputs": [
    {
     "data": {
      "text/plain": [
       "DecisionTreeClassifier(max_depth=5, random_state=42)"
      ]
     },
     "execution_count": 28,
     "metadata": {},
     "output_type": "execute_result"
    }
   ],
   "source": [
    "# DecisionTree 를 불러옵니다.\n",
    "\n",
    "from sklearn.tree import DecisionTreeClassifier\n",
    "\n",
    "model = DecisionTreeClassifier(max_depth=5, random_state=42)\n",
    "model"
   ]
  },
  {
   "cell_type": "markdown",
   "metadata": {},
   "source": [
    "### 최적의 max_depth 값 찾기"
   ]
  },
  {
   "cell_type": "code",
   "execution_count": 34,
   "metadata": {
    "scrolled": true
   },
   "outputs": [
    {
     "name": "stdout",
     "output_type": "stream",
     "text": [
      "3 85.06493506493507\n",
      "4 87.66233766233766\n",
      "5 85.71428571428571\n",
      "6 81.81818181818183\n",
      "7 81.81818181818183\n",
      "8 81.81818181818183\n",
      "9 83.76623376623377\n",
      "10 79.22077922077922\n",
      "11 81.81818181818183\n"
     ]
    }
   ],
   "source": [
    "from sklearn.metrics import accuracy_score\n",
    "\n",
    "for max_depth in range(3, 12):\n",
    "    model = DecisionTreeClassifier(max_depth=max_depth, random_state=42)\n",
    "    y_predict = model.fit(X_train, y_train).predict(X_test)\n",
    "    score = accuracy_score(y_test, y_predict) * 100\n",
    "    print(max_depth, score)"
   ]
  },
  {
   "cell_type": "markdown",
   "metadata": {},
   "source": [
    "* max_dept가 4일 때 가장 좋은 성능을 가진다."
   ]
  },
  {
   "cell_type": "markdown",
   "metadata": {},
   "source": [
    "### Grid Search\n",
    "\n",
    "* https://scikit-learn.org/stable/modules/cross_validation.html\n",
    "* https://scikit-learn.org/stable/modules/generated/sklearn.model_selection.GridSearchCV.html"
   ]
  },
  {
   "cell_type": "code",
   "execution_count": 35,
   "metadata": {},
   "outputs": [
    {
     "name": "stdout",
     "output_type": "stream",
     "text": [
      "Fitting 5 folds for each of 45 candidates, totalling 225 fits\n"
     ]
    },
    {
     "data": {
      "text/plain": [
       "GridSearchCV(cv=5, estimator=DecisionTreeClassifier(random_state=42), n_jobs=-1,\n",
       "             param_grid={'max_depth': range(3, 12),\n",
       "                         'max_features': [0.3, 0.5, 0.7, 0.9, 1]},\n",
       "             verbose=2)"
      ]
     },
     "execution_count": 35,
     "metadata": {},
     "output_type": "execute_result"
    }
   ],
   "source": [
    "from sklearn.model_selection import GridSearchCV\n",
    "\n",
    "model = DecisionTreeClassifier(random_state=42)\n",
    "param_grid = {\"max_depth\": range(3, 12), \n",
    "              \"max_features\": [0.3, 0.5, 0.7, 0.9, 1]}\n",
    "clf = GridSearchCV(model, param_grid=param_grid, n_jobs=-1, cv=5, verbose=2)\n",
    "clf.fit(X_train, y_train)"
   ]
  },
  {
   "cell_type": "code",
   "execution_count": 36,
   "metadata": {},
   "outputs": [
    {
     "data": {
      "text/plain": [
       "{'max_depth': 5, 'max_features': 0.7}"
      ]
     },
     "execution_count": 36,
     "metadata": {},
     "output_type": "execute_result"
    }
   ],
   "source": [
    "clf.best_params_"
   ]
  },
  {
   "cell_type": "code",
   "execution_count": 37,
   "metadata": {},
   "outputs": [
    {
     "data": {
      "text/plain": [
       "DecisionTreeClassifier(max_depth=5, max_features=0.7, random_state=42)"
      ]
     },
     "execution_count": 37,
     "metadata": {},
     "output_type": "execute_result"
    }
   ],
   "source": [
    "clf.best_estimator_"
   ]
  },
  {
   "cell_type": "code",
   "execution_count": 39,
   "metadata": {},
   "outputs": [
    {
     "data": {
      "text/plain": [
       "0.8664934026389444"
      ]
     },
     "execution_count": 39,
     "metadata": {},
     "output_type": "execute_result"
    }
   ],
   "source": [
    "clf.best_score_"
   ]
  },
  {
   "cell_type": "code",
   "execution_count": 43,
   "metadata": {},
   "outputs": [
    {
     "data": {
      "text/html": [
       "<div>\n",
       "<style scoped>\n",
       "    .dataframe tbody tr th:only-of-type {\n",
       "        vertical-align: middle;\n",
       "    }\n",
       "\n",
       "    .dataframe tbody tr th {\n",
       "        vertical-align: top;\n",
       "    }\n",
       "\n",
       "    .dataframe thead th {\n",
       "        text-align: right;\n",
       "    }\n",
       "</style>\n",
       "<table border=\"1\" class=\"dataframe\">\n",
       "  <thead>\n",
       "    <tr style=\"text-align: right;\">\n",
       "      <th></th>\n",
       "      <th>mean_fit_time</th>\n",
       "      <th>std_fit_time</th>\n",
       "      <th>mean_score_time</th>\n",
       "      <th>std_score_time</th>\n",
       "      <th>param_max_depth</th>\n",
       "      <th>param_max_features</th>\n",
       "      <th>params</th>\n",
       "      <th>split0_test_score</th>\n",
       "      <th>split1_test_score</th>\n",
       "      <th>split2_test_score</th>\n",
       "      <th>split3_test_score</th>\n",
       "      <th>split4_test_score</th>\n",
       "      <th>mean_test_score</th>\n",
       "      <th>std_test_score</th>\n",
       "      <th>rank_test_score</th>\n",
       "    </tr>\n",
       "  </thead>\n",
       "  <tbody>\n",
       "    <tr>\n",
       "      <th>12</th>\n",
       "      <td>0.010691</td>\n",
       "      <td>0.001982</td>\n",
       "      <td>0.006692</td>\n",
       "      <td>0.003015</td>\n",
       "      <td>5</td>\n",
       "      <td>0.7</td>\n",
       "      <td>{'max_depth': 5, 'max_features': 0.7}</td>\n",
       "      <td>0.878049</td>\n",
       "      <td>0.910569</td>\n",
       "      <td>0.813008</td>\n",
       "      <td>0.837398</td>\n",
       "      <td>0.893443</td>\n",
       "      <td>0.866493</td>\n",
       "      <td>0.036082</td>\n",
       "      <td>1</td>\n",
       "    </tr>\n",
       "    <tr>\n",
       "      <th>7</th>\n",
       "      <td>0.011628</td>\n",
       "      <td>0.003723</td>\n",
       "      <td>0.009375</td>\n",
       "      <td>0.002996</td>\n",
       "      <td>4</td>\n",
       "      <td>0.7</td>\n",
       "      <td>{'max_depth': 4, 'max_features': 0.7}</td>\n",
       "      <td>0.813008</td>\n",
       "      <td>0.886179</td>\n",
       "      <td>0.829268</td>\n",
       "      <td>0.861789</td>\n",
       "      <td>0.918033</td>\n",
       "      <td>0.861655</td>\n",
       "      <td>0.037935</td>\n",
       "      <td>2</td>\n",
       "    </tr>\n",
       "    <tr>\n",
       "      <th>8</th>\n",
       "      <td>0.018448</td>\n",
       "      <td>0.015518</td>\n",
       "      <td>0.006590</td>\n",
       "      <td>0.002810</td>\n",
       "      <td>4</td>\n",
       "      <td>0.9</td>\n",
       "      <td>{'max_depth': 4, 'max_features': 0.9}</td>\n",
       "      <td>0.821138</td>\n",
       "      <td>0.886179</td>\n",
       "      <td>0.853659</td>\n",
       "      <td>0.853659</td>\n",
       "      <td>0.893443</td>\n",
       "      <td>0.861615</td>\n",
       "      <td>0.026005</td>\n",
       "      <td>3</td>\n",
       "    </tr>\n",
       "    <tr>\n",
       "      <th>18</th>\n",
       "      <td>0.012421</td>\n",
       "      <td>0.002608</td>\n",
       "      <td>0.008811</td>\n",
       "      <td>0.002501</td>\n",
       "      <td>6</td>\n",
       "      <td>0.9</td>\n",
       "      <td>{'max_depth': 6, 'max_features': 0.9}</td>\n",
       "      <td>0.829268</td>\n",
       "      <td>0.894309</td>\n",
       "      <td>0.821138</td>\n",
       "      <td>0.878049</td>\n",
       "      <td>0.877049</td>\n",
       "      <td>0.859963</td>\n",
       "      <td>0.029149</td>\n",
       "      <td>4</td>\n",
       "    </tr>\n",
       "    <tr>\n",
       "      <th>27</th>\n",
       "      <td>0.010833</td>\n",
       "      <td>0.001478</td>\n",
       "      <td>0.006983</td>\n",
       "      <td>0.001279</td>\n",
       "      <td>8</td>\n",
       "      <td>0.7</td>\n",
       "      <td>{'max_depth': 8, 'max_features': 0.7}</td>\n",
       "      <td>0.861789</td>\n",
       "      <td>0.878049</td>\n",
       "      <td>0.837398</td>\n",
       "      <td>0.853659</td>\n",
       "      <td>0.860656</td>\n",
       "      <td>0.858310</td>\n",
       "      <td>0.013162</td>\n",
       "      <td>5</td>\n",
       "    </tr>\n",
       "  </tbody>\n",
       "</table>\n",
       "</div>"
      ],
      "text/plain": [
       "    mean_fit_time  std_fit_time  mean_score_time  std_score_time  \\\n",
       "12       0.010691      0.001982         0.006692        0.003015   \n",
       "7        0.011628      0.003723         0.009375        0.002996   \n",
       "8        0.018448      0.015518         0.006590        0.002810   \n",
       "18       0.012421      0.002608         0.008811        0.002501   \n",
       "27       0.010833      0.001478         0.006983        0.001279   \n",
       "\n",
       "   param_max_depth param_max_features                                 params  \\\n",
       "12               5                0.7  {'max_depth': 5, 'max_features': 0.7}   \n",
       "7                4                0.7  {'max_depth': 4, 'max_features': 0.7}   \n",
       "8                4                0.9  {'max_depth': 4, 'max_features': 0.9}   \n",
       "18               6                0.9  {'max_depth': 6, 'max_features': 0.9}   \n",
       "27               8                0.7  {'max_depth': 8, 'max_features': 0.7}   \n",
       "\n",
       "    split0_test_score  split1_test_score  split2_test_score  \\\n",
       "12           0.878049           0.910569           0.813008   \n",
       "7            0.813008           0.886179           0.829268   \n",
       "8            0.821138           0.886179           0.853659   \n",
       "18           0.829268           0.894309           0.821138   \n",
       "27           0.861789           0.878049           0.837398   \n",
       "\n",
       "    split3_test_score  split4_test_score  mean_test_score  std_test_score  \\\n",
       "12           0.837398           0.893443         0.866493        0.036082   \n",
       "7            0.861789           0.918033         0.861655        0.037935   \n",
       "8            0.853659           0.893443         0.861615        0.026005   \n",
       "18           0.878049           0.877049         0.859963        0.029149   \n",
       "27           0.853659           0.860656         0.858310        0.013162   \n",
       "\n",
       "    rank_test_score  \n",
       "12                1  \n",
       "7                 2  \n",
       "8                 3  \n",
       "18                4  \n",
       "27                5  "
      ]
     },
     "execution_count": 43,
     "metadata": {},
     "output_type": "execute_result"
    }
   ],
   "source": [
    "pd.DataFrame(clf.cv_results_).sort_values(\"rank_test_score\").head()"
   ]
  },
  {
   "cell_type": "code",
   "execution_count": 44,
   "metadata": {},
   "outputs": [
    {
     "data": {
      "text/plain": [
       "array([1, 0, 0, 0, 0, 1, 0, 0, 1, 0, 0, 0, 1, 0, 0, 0, 0, 0, 1, 0, 0, 0,\n",
       "       0, 0, 1, 1, 0, 0, 0, 0, 1, 1, 1, 1, 0, 1, 1, 1, 0, 1, 0, 0, 0, 1,\n",
       "       0, 0, 1, 0, 0, 1, 0, 1, 1, 1, 0, 0, 0, 0, 0, 1, 1, 0, 1, 1, 0, 0,\n",
       "       0, 1, 0, 1, 1, 0, 0, 0, 0, 0, 0, 0, 0, 0, 1, 0, 0, 0, 0, 1, 1, 1,\n",
       "       0, 0, 0, 0, 0, 1, 0, 0, 0, 0, 1, 0, 0, 0, 1, 1, 1, 0, 0, 1, 0, 1,\n",
       "       0, 1, 0, 1, 0, 0, 0, 0, 0, 0, 0, 0, 1, 0, 0, 1, 1, 1, 1, 1, 1, 1,\n",
       "       0, 1, 1, 0, 1, 1, 1, 0, 0, 0, 0, 0, 0, 0, 1, 0, 0, 1, 0, 0, 1, 0],\n",
       "      dtype=int64)"
      ]
     },
     "execution_count": 44,
     "metadata": {},
     "output_type": "execute_result"
    }
   ],
   "source": [
    "clf.predict(X_test)"
   ]
  },
  {
   "cell_type": "code",
   "execution_count": 45,
   "metadata": {},
   "outputs": [
    {
     "data": {
      "text/plain": [
       "0.8701298701298701"
      ]
     },
     "execution_count": 45,
     "metadata": {},
     "output_type": "execute_result"
    }
   ],
   "source": [
    "clf.score(X_test, y_test)"
   ]
  },
  {
   "cell_type": "markdown",
   "metadata": {},
   "source": [
    "### Random Search\n",
    "<img src=\"https://i.imgur.com/N17CPGj.png\">\n",
    "\n",
    "출처 : http://www.jmlr.org/papers/volume13/bergstra12a/bergstra12a.pdf"
   ]
  },
  {
   "cell_type": "code",
   "execution_count": 75,
   "metadata": {},
   "outputs": [
    {
     "data": {
      "text/plain": [
       "array([ 3, 11, 12, 12, 17,  4,  5, 11,  6, 13])"
      ]
     },
     "execution_count": 75,
     "metadata": {},
     "output_type": "execute_result"
    }
   ],
   "source": [
    "max_depth = np.random.randint(3, 20, 10)\n",
    "max_depth"
   ]
  },
  {
   "cell_type": "code",
   "execution_count": 76,
   "metadata": {},
   "outputs": [],
   "source": [
    "max_features = np.random.uniform(0.7, 1.0, 100)"
   ]
  },
  {
   "cell_type": "code",
   "execution_count": 77,
   "metadata": {},
   "outputs": [
    {
     "data": {
      "text/plain": [
       "{'max_depth': array([ 3, 11, 12, 12, 17,  4,  5, 11,  6, 13]),\n",
       " 'max_features': array([0.74388667, 0.84213719, 0.90393908, 0.83075787, 0.74151865,\n",
       "        0.88570178, 0.95262935, 0.95382783, 0.74979861, 0.76200083,\n",
       "        0.82447339, 0.85819504, 0.99526826, 0.92524426, 0.90431624,\n",
       "        0.74972945, 0.88346056, 0.84447457, 0.90607191, 0.87718216,\n",
       "        0.89656617, 0.84471824, 0.88539264, 0.9893058 , 0.77932481,\n",
       "        0.9818719 , 0.94410523, 0.97828507, 0.89458773, 0.72581986,\n",
       "        0.9923239 , 0.70036152, 0.90480074, 0.99285381, 0.70581914,\n",
       "        0.84078141, 0.70510552, 0.75765118, 0.81925319, 0.80962237,\n",
       "        0.81761083, 0.76954696, 0.87568553, 0.72644438, 0.87739794,\n",
       "        0.84866713, 0.75762143, 0.8529315 , 0.9794762 , 0.76680945,\n",
       "        0.70249147, 0.78605933, 0.92533939, 0.78559367, 0.99880719,\n",
       "        0.93261815, 0.9621785 , 0.91167638, 0.96367497, 0.7236667 ,\n",
       "        0.90118371, 0.87813939, 0.87345726, 0.79576321, 0.87268475,\n",
       "        0.97253058, 0.8339049 , 0.72617217, 0.70853759, 0.81744429,\n",
       "        0.80711061, 0.86685097, 0.86960995, 0.83682981, 0.78910609,\n",
       "        0.80105814, 0.91871803, 0.70113955, 0.98342708, 0.83941008,\n",
       "        0.94409044, 0.91120257, 0.71729958, 0.95621063, 0.96706805,\n",
       "        0.99644735, 0.77039181, 0.88721249, 0.8155433 , 0.75128384,\n",
       "        0.88216004, 0.91362059, 0.94038735, 0.7141666 , 0.75636242,\n",
       "        0.80013659, 0.75211319, 0.77280533, 0.91399471, 0.77674558]),\n",
       " 'min_samples_split': [2, 3, 4, 5, 6]}"
      ]
     },
     "execution_count": 77,
     "metadata": {},
     "output_type": "execute_result"
    }
   ],
   "source": [
    "param_distributions = {\"max_depth\" : max_depth,\n",
    "                       \"max_features\" : max_features,\n",
    "                      \"min_samples_split\" : list(range(2, 7))}\n",
    "param_distributions"
   ]
  },
  {
   "cell_type": "code",
   "execution_count": 82,
   "metadata": {},
   "outputs": [
    {
     "data": {
      "text/plain": [
       "RandomizedSearchCV(cv=5, estimator=DecisionTreeClassifier(random_state=42),\n",
       "                   n_iter=1000, n_jobs=-1,\n",
       "                   param_distributions={'max_depth': array([ 3, 11, 12, 12, 17,  4,  5, 11,  6, 13]),\n",
       "                                        'max_features': array([0.74388667, 0.84213719, 0.90393908, 0.83075787, 0.74151865,\n",
       "       0.88570178, 0.95262935, 0.95382783, 0.74979861, 0.76200083,\n",
       "       0.82447339, 0.85819504, 0.99526826, 0.92524426, 0.90431624...\n",
       "       0.80711061, 0.86685097, 0.86960995, 0.83682981, 0.78910609,\n",
       "       0.80105814, 0.91871803, 0.70113955, 0.98342708, 0.83941008,\n",
       "       0.94409044, 0.91120257, 0.71729958, 0.95621063, 0.96706805,\n",
       "       0.99644735, 0.77039181, 0.88721249, 0.8155433 , 0.75128384,\n",
       "       0.88216004, 0.91362059, 0.94038735, 0.7141666 , 0.75636242,\n",
       "       0.80013659, 0.75211319, 0.77280533, 0.91399471, 0.77674558]),\n",
       "                                        'min_samples_split': [2, 3, 4, 5, 6]},\n",
       "                   random_state=42, scoring='accuracy')"
      ]
     },
     "execution_count": 82,
     "metadata": {},
     "output_type": "execute_result"
    }
   ],
   "source": [
    "from sklearn.model_selection import RandomizedSearchCV\n",
    "\n",
    "clf = RandomizedSearchCV(model,\n",
    "                         param_distributions,\n",
    "                         n_iter=1000,\n",
    "                         scoring=\"accuracy\",\n",
    "                         n_jobs=-1,\n",
    "                         cv=5,\n",
    "                         random_state=42)\n",
    "clf.fit(X_train, y_train)"
   ]
  },
  {
   "cell_type": "code",
   "execution_count": 83,
   "metadata": {},
   "outputs": [
    {
     "data": {
      "text/plain": [
       "{'min_samples_split': 4, 'max_features': 0.7668094511658401, 'max_depth': 5}"
      ]
     },
     "execution_count": 83,
     "metadata": {},
     "output_type": "execute_result"
    }
   ],
   "source": [
    "clf.best_params_"
   ]
  },
  {
   "cell_type": "code",
   "execution_count": 84,
   "metadata": {},
   "outputs": [
    {
     "data": {
      "text/plain": [
       "0.8697454351592697"
      ]
     },
     "execution_count": 84,
     "metadata": {},
     "output_type": "execute_result"
    }
   ],
   "source": [
    "clf.best_score_"
   ]
  },
  {
   "cell_type": "code",
   "execution_count": 85,
   "metadata": {},
   "outputs": [
    {
     "data": {
      "text/plain": [
       "0.8701298701298701"
      ]
     },
     "execution_count": 85,
     "metadata": {},
     "output_type": "execute_result"
    }
   ],
   "source": [
    "clf.score(X_test, y_test)"
   ]
  },
  {
   "cell_type": "code",
   "execution_count": 86,
   "metadata": {},
   "outputs": [
    {
     "data": {
      "text/html": [
       "<div>\n",
       "<style scoped>\n",
       "    .dataframe tbody tr th:only-of-type {\n",
       "        vertical-align: middle;\n",
       "    }\n",
       "\n",
       "    .dataframe tbody tr th {\n",
       "        vertical-align: top;\n",
       "    }\n",
       "\n",
       "    .dataframe thead th {\n",
       "        text-align: right;\n",
       "    }\n",
       "</style>\n",
       "<table border=\"1\" class=\"dataframe\">\n",
       "  <thead>\n",
       "    <tr style=\"text-align: right;\">\n",
       "      <th></th>\n",
       "      <th>mean_fit_time</th>\n",
       "      <th>std_fit_time</th>\n",
       "      <th>mean_score_time</th>\n",
       "      <th>std_score_time</th>\n",
       "      <th>param_min_samples_split</th>\n",
       "      <th>param_max_features</th>\n",
       "      <th>param_max_depth</th>\n",
       "      <th>params</th>\n",
       "      <th>split0_test_score</th>\n",
       "      <th>split1_test_score</th>\n",
       "      <th>split2_test_score</th>\n",
       "      <th>split3_test_score</th>\n",
       "      <th>split4_test_score</th>\n",
       "      <th>mean_test_score</th>\n",
       "      <th>std_test_score</th>\n",
       "      <th>rank_test_score</th>\n",
       "    </tr>\n",
       "  </thead>\n",
       "  <tbody>\n",
       "    <tr>\n",
       "      <th>675</th>\n",
       "      <td>0.006911</td>\n",
       "      <td>0.000644</td>\n",
       "      <td>0.004091</td>\n",
       "      <td>0.002002</td>\n",
       "      <td>4</td>\n",
       "      <td>0.766809</td>\n",
       "      <td>5</td>\n",
       "      <td>{'min_samples_split': 4, 'max_features': 0.766...</td>\n",
       "      <td>0.878049</td>\n",
       "      <td>0.910569</td>\n",
       "      <td>0.813008</td>\n",
       "      <td>0.853659</td>\n",
       "      <td>0.893443</td>\n",
       "      <td>0.869745</td>\n",
       "      <td>0.033985</td>\n",
       "      <td>1</td>\n",
       "    </tr>\n",
       "    <tr>\n",
       "      <th>676</th>\n",
       "      <td>0.009399</td>\n",
       "      <td>0.003778</td>\n",
       "      <td>0.002998</td>\n",
       "      <td>0.000643</td>\n",
       "      <td>4</td>\n",
       "      <td>0.743887</td>\n",
       "      <td>5</td>\n",
       "      <td>{'min_samples_split': 4, 'max_features': 0.743...</td>\n",
       "      <td>0.878049</td>\n",
       "      <td>0.910569</td>\n",
       "      <td>0.813008</td>\n",
       "      <td>0.853659</td>\n",
       "      <td>0.893443</td>\n",
       "      <td>0.869745</td>\n",
       "      <td>0.033985</td>\n",
       "      <td>1</td>\n",
       "    </tr>\n",
       "    <tr>\n",
       "      <th>983</th>\n",
       "      <td>0.008406</td>\n",
       "      <td>0.001850</td>\n",
       "      <td>0.005793</td>\n",
       "      <td>0.004176</td>\n",
       "      <td>4</td>\n",
       "      <td>0.741519</td>\n",
       "      <td>5</td>\n",
       "      <td>{'min_samples_split': 4, 'max_features': 0.741...</td>\n",
       "      <td>0.878049</td>\n",
       "      <td>0.910569</td>\n",
       "      <td>0.813008</td>\n",
       "      <td>0.853659</td>\n",
       "      <td>0.893443</td>\n",
       "      <td>0.869745</td>\n",
       "      <td>0.033985</td>\n",
       "      <td>1</td>\n",
       "    </tr>\n",
       "    <tr>\n",
       "      <th>403</th>\n",
       "      <td>0.007482</td>\n",
       "      <td>0.001473</td>\n",
       "      <td>0.003493</td>\n",
       "      <td>0.001096</td>\n",
       "      <td>2</td>\n",
       "      <td>0.844718</td>\n",
       "      <td>4</td>\n",
       "      <td>{'min_samples_split': 2, 'max_features': 0.844...</td>\n",
       "      <td>0.869919</td>\n",
       "      <td>0.886179</td>\n",
       "      <td>0.837398</td>\n",
       "      <td>0.861789</td>\n",
       "      <td>0.885246</td>\n",
       "      <td>0.868106</td>\n",
       "      <td>0.017925</td>\n",
       "      <td>4</td>\n",
       "    </tr>\n",
       "    <tr>\n",
       "      <th>412</th>\n",
       "      <td>0.008876</td>\n",
       "      <td>0.004641</td>\n",
       "      <td>0.003445</td>\n",
       "      <td>0.001054</td>\n",
       "      <td>5</td>\n",
       "      <td>0.779325</td>\n",
       "      <td>4</td>\n",
       "      <td>{'min_samples_split': 5, 'max_features': 0.779...</td>\n",
       "      <td>0.869919</td>\n",
       "      <td>0.886179</td>\n",
       "      <td>0.837398</td>\n",
       "      <td>0.861789</td>\n",
       "      <td>0.885246</td>\n",
       "      <td>0.868106</td>\n",
       "      <td>0.017925</td>\n",
       "      <td>4</td>\n",
       "    </tr>\n",
       "  </tbody>\n",
       "</table>\n",
       "</div>"
      ],
      "text/plain": [
       "     mean_fit_time  std_fit_time  mean_score_time  std_score_time  \\\n",
       "675       0.006911      0.000644         0.004091        0.002002   \n",
       "676       0.009399      0.003778         0.002998        0.000643   \n",
       "983       0.008406      0.001850         0.005793        0.004176   \n",
       "403       0.007482      0.001473         0.003493        0.001096   \n",
       "412       0.008876      0.004641         0.003445        0.001054   \n",
       "\n",
       "    param_min_samples_split param_max_features param_max_depth  \\\n",
       "675                       4           0.766809               5   \n",
       "676                       4           0.743887               5   \n",
       "983                       4           0.741519               5   \n",
       "403                       2           0.844718               4   \n",
       "412                       5           0.779325               4   \n",
       "\n",
       "                                                params  split0_test_score  \\\n",
       "675  {'min_samples_split': 4, 'max_features': 0.766...           0.878049   \n",
       "676  {'min_samples_split': 4, 'max_features': 0.743...           0.878049   \n",
       "983  {'min_samples_split': 4, 'max_features': 0.741...           0.878049   \n",
       "403  {'min_samples_split': 2, 'max_features': 0.844...           0.869919   \n",
       "412  {'min_samples_split': 5, 'max_features': 0.779...           0.869919   \n",
       "\n",
       "     split1_test_score  split2_test_score  split3_test_score  \\\n",
       "675           0.910569           0.813008           0.853659   \n",
       "676           0.910569           0.813008           0.853659   \n",
       "983           0.910569           0.813008           0.853659   \n",
       "403           0.886179           0.837398           0.861789   \n",
       "412           0.886179           0.837398           0.861789   \n",
       "\n",
       "     split4_test_score  mean_test_score  std_test_score  rank_test_score  \n",
       "675           0.893443         0.869745        0.033985                1  \n",
       "676           0.893443         0.869745        0.033985                1  \n",
       "983           0.893443         0.869745        0.033985                1  \n",
       "403           0.885246         0.868106        0.017925                4  \n",
       "412           0.885246         0.868106        0.017925                4  "
      ]
     },
     "execution_count": 86,
     "metadata": {},
     "output_type": "execute_result"
    }
   ],
   "source": [
    "pd.DataFrame(clf.cv_results_).sort_values(by=\"rank_test_score\").head()"
   ]
  },
  {
   "cell_type": "markdown",
   "metadata": {},
   "source": [
    "## 학습과 예측하기"
   ]
  },
  {
   "cell_type": "code",
   "execution_count": 29,
   "metadata": {},
   "outputs": [
    {
     "data": {
      "text/plain": [
       "DecisionTreeClassifier(max_depth=5, random_state=42)"
      ]
     },
     "execution_count": 29,
     "metadata": {},
     "output_type": "execute_result"
    }
   ],
   "source": [
    "# 학습을 시킵니다.\n",
    "model.fit(X_train, y_train)"
   ]
  },
  {
   "cell_type": "code",
   "execution_count": 30,
   "metadata": {},
   "outputs": [
    {
     "data": {
      "image/png": "[encoded data removed]",
      "text/plain": [
       "<Figure size 1080x720 with 1 Axes>"
      ]
     },
     "metadata": {
      "needs_background": "light"
     },
     "output_type": "display_data"
    }
   ],
   "source": [
    "# 그래프로 시각화한다.\n",
    "feature_names = X_train.columns.tolist()\n",
    "\n",
    "from sklearn.tree import plot_tree\n",
    "\n",
    "plt.figure(figsize=(15,10))\n",
    "tree = plot_tree(model, fontsize=10, feature_names = feature_names, filled=True)"
   ]
  },
  {
   "cell_type": "markdown",
   "metadata": {},
   "source": [
    "* 맨 아래 노드들의 샘플개수가 1이라면 과적합되었을 가능성이 크다."
   ]
  },
  {
   "cell_type": "code",
   "execution_count": 31,
   "metadata": {
    "scrolled": true
   },
   "outputs": [
    {
     "data": {
      "text/plain": [
       "array([0, 0, 0, 0, 0, 0, 0, 0, 1, 0, 1, 0, 0, 0, 0, 0, 0, 0, 1, 0, 0, 0,\n",
       "       0, 0, 1, 1, 0, 0, 0, 0, 1, 1, 1, 1, 0, 1, 1, 1, 0, 1, 0, 0, 0, 1,\n",
       "       0, 0, 0, 0, 0, 1, 0, 1, 0, 1, 0, 0, 0, 0, 0, 1, 1, 0, 0, 0, 0, 0,\n",
       "       0, 1, 0, 1, 0, 0, 0, 0, 0, 0, 0, 1, 0, 0, 1, 0, 0, 0, 0, 1, 1, 0,\n",
       "       0, 0, 0, 0, 0, 1, 0, 0, 0, 0, 1, 0, 1, 0, 1, 0, 1, 0, 0, 1, 0, 1,\n",
       "       0, 0, 0, 1, 0, 0, 0, 0, 0, 0, 0, 0, 1, 0, 0, 1, 1, 1, 1, 1, 1, 0,\n",
       "       0, 1, 1, 0, 1, 1, 1, 0, 0, 0, 0, 0, 0, 0, 1, 0, 0, 1, 0, 0, 0, 0],\n",
       "      dtype=int64)"
      ]
     },
     "execution_count": 31,
     "metadata": {},
     "output_type": "execute_result"
    }
   ],
   "source": [
    "# 예측을 하고 결과를 y_predict에 담습니다.\n",
    "y_predict = model.predict(X_test)\n",
    "y_predict"
   ]
  },
  {
   "cell_type": "markdown",
   "metadata": {},
   "source": [
    "## 정확도(Accuracy) 측정하기"
   ]
  },
  {
   "cell_type": "code",
   "execution_count": 32,
   "metadata": {},
   "outputs": [
    {
     "data": {
      "text/plain": [
       "22"
      ]
     },
     "execution_count": 32,
     "metadata": {},
     "output_type": "execute_result"
    }
   ],
   "source": [
    "# 다르게 예측한 개수를 구해서 diff_count에 할당해줍니다.\n",
    "abs(y_predict - y_test).sum()"
   ]
  },
  {
   "cell_type": "markdown",
   "metadata": {},
   "source": [
    "* 지난번과 다르게 예측한 개수가 다르다. train 세트와 test 세트를 나누는 방법이 바뀌었기 때문이다."
   ]
  },
  {
   "cell_type": "code",
   "execution_count": 33,
   "metadata": {},
   "outputs": [
    {
     "data": {
      "text/plain": [
       "85.71428571428571"
      ]
     },
     "execution_count": 33,
     "metadata": {},
     "output_type": "execute_result"
    }
   ],
   "source": [
    "# accuracy score를 구합니다.\n",
    "from sklearn.metrics import accuracy_score\n",
    "\n",
    "accuracy_score(y_test, y_predict) * 100"
   ]
  },
  {
   "cell_type": "code",
   "execution_count": null,
   "metadata": {},
   "outputs": [],
   "source": []
  }
 ],
 "metadata": {
  "kernelspec": {
   "display_name": "Python 3 (ipykernel)",
   "language": "python",
   "name": "python3"
  },
  "language_info": {
   "codemirror_mode": {
    "name": "ipython",
    "version": 3
   },
   "file_extension": ".py",
   "mimetype": "text/x-python",
   "name": "python",
   "nbconvert_exporter": "python",
   "pygments_lexer": "ipython3",
   "version": "3.9.7"
  },
  "toc": {
   "base_numbering": 1,
   "nav_menu": {},
   "number_sections": true,
   "sideBar": true,
   "skip_h1_title": false,
   "title_cell": "Table of Contents",
   "title_sidebar": "Contents",
   "toc_cell": false,
   "toc_position": {},
   "toc_section_display": true,
   "toc_window_display": true
  },
  "varInspector": {
   "cols": {
    "lenName": 16,
    "lenType": 16,
    "lenVar": 40
   },
   "kernels_config": {
    "python": {
     "delete_cmd_postfix": "",
     "delete_cmd_prefix": "del ",
     "library": "var_list.py",
     "varRefreshCmd": "print(var_dic_list())"
    },
    "r": {
     "delete_cmd_postfix": ") ",
     "delete_cmd_prefix": "rm(",
     "library": "var_list.r",
     "varRefreshCmd": "cat(var_dic_list()) "
    }
   },
   "types_to_exclude": [
    "module",
    "function",
    "builtin_function_or_method",
    "instance",
    "_Feature"
   ],
   "window_display": false
  }
 },
 "nbformat": 4,
 "nbformat_minor": 4
}
