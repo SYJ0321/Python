{
 "cells": [
  {
   "cell_type": "markdown",
   "id": "f77bd883",
   "metadata": {},
   "source": [
    "# python for data analysis\n",
    "* 파이썬 공식 튜토리얼: https://docs.python.org/3/tutorial/index.html"
   ]
  },
  {
   "cell_type": "markdown",
   "id": "1cccb85d",
   "metadata": {},
   "source": [
    "# Zen of Python\n",
    "* 파이썬의 철학이 잘 담겨있는 Zen of Python을 출력해 봅니다.\n",
    "* import를 통해 파이썬의 라이브러리나 패키지를 가져올 수 있습니다."
   ]
  },
  {
   "cell_type": "code",
   "execution_count": 1,
   "id": "36c0a04e",
   "metadata": {},
   "outputs": [
    {
     "name": "stdout",
     "output_type": "stream",
     "text": [
      "The Zen of Python, by Tim Peters\n",
      "\n",
      "Beautiful is better than ugly.\n",
      "Explicit is better than implicit.\n",
      "Simple is better than complex.\n",
      "Complex is better than complicated.\n",
      "Flat is better than nested.\n",
      "Sparse is better than dense.\n",
      "Readability counts.\n",
      "Special cases aren't special enough to break the rules.\n",
      "Although practicality beats purity.\n",
      "Errors should never pass silently.\n",
      "Unless explicitly silenced.\n",
      "In the face of ambiguity, refuse the temptation to guess.\n",
      "There should be one-- and preferably only one --obvious way to do it.\n",
      "Although that way may not be obvious at first unless you're Dutch.\n",
      "Now is better than never.\n",
      "Although never is often better than *right* now.\n",
      "If the implementation is hard to explain, it's a bad idea.\n",
      "If the implementation is easy to explain, it may be a good idea.\n",
      "Namespaces are one honking great idea -- let's do more of those!\n"
     ]
    }
   ],
   "source": [
    "#PEP20\n",
    "import this"
   ]
  },
  {
   "cell_type": "markdown",
   "id": "9cd49175",
   "metadata": {},
   "source": [
    "# boolean\n",
    "* 파이썬에는 명시적인 것이 암시적인 것보다 낫다라는 철학이 있습니다.\n",
    "* True나 False는 0과 1로도 표현할 수 있으나 명시적으로 표현하기 위해 True와 False를 사용합니다."
   ]
  },
  {
   "cell_type": "code",
   "execution_count": 2,
   "id": "c8bf3024",
   "metadata": {},
   "outputs": [
    {
     "data": {
      "text/plain": [
       "True"
      ]
     },
     "execution_count": 2,
     "metadata": {},
     "output_type": "execute_result"
    }
   ],
   "source": [
    "# True를 출력해 보세요.\n",
    "True"
   ]
  },
  {
   "cell_type": "code",
   "execution_count": 3,
   "id": "5b62bd9b",
   "metadata": {},
   "outputs": [
    {
     "data": {
      "text/plain": [
       "False"
      ]
     },
     "execution_count": 3,
     "metadata": {},
     "output_type": "execute_result"
    }
   ],
   "source": [
    "# False를 출력해 보세요.\n",
    "False"
   ]
  },
  {
   "cell_type": "code",
   "execution_count": 63,
   "id": "a1427f52",
   "metadata": {},
   "outputs": [
    {
     "data": {
      "text/plain": [
       "True"
      ]
     },
     "execution_count": 63,
     "metadata": {},
     "output_type": "execute_result"
    }
   ],
   "source": [
    "# True는 1과 같음을 표현해 보세요. 파이썬에서는 같음을 비교할 때 == 연산을 사용합니다.\n",
    "True == 1"
   ]
  },
  {
   "cell_type": "code",
   "execution_count": 5,
   "id": "2e4469da",
   "metadata": {},
   "outputs": [
    {
     "data": {
      "text/plain": [
       "True"
      ]
     },
     "execution_count": 5,
     "metadata": {},
     "output_type": "execute_result"
    }
   ],
   "source": [
    "# False는 0과 같음을 표현해 보세요. 파이썬에서는 같음을 비교할 때 == 연산을 사용합니다.\n",
    "False == 0"
   ]
  },
  {
   "cell_type": "code",
   "execution_count": 7,
   "id": "c5f922b4",
   "metadata": {},
   "outputs": [
    {
     "data": {
      "text/plain": [
       "False"
      ]
     },
     "execution_count": 7,
     "metadata": {},
     "output_type": "execute_result"
    }
   ],
   "source": [
    "# 하지만 True는 문자 1과는 다릅니다. 1을 따옴표로 감싸면 문자열이 됩니다.\n",
    "True == \"1\""
   ]
  },
  {
   "cell_type": "code",
   "execution_count": 8,
   "id": "af60e7a9",
   "metadata": {},
   "outputs": [
    {
     "data": {
      "text/plain": [
       "True"
      ]
     },
     "execution_count": 8,
     "metadata": {},
     "output_type": "execute_result"
    }
   ],
   "source": [
    "# 문자열 1과 True는 다릅니다.\n",
    "True != \"1\""
   ]
  },
  {
   "cell_type": "code",
   "execution_count": 9,
   "id": "1ee2a1b0",
   "metadata": {},
   "outputs": [
    {
     "data": {
      "text/plain": [
       "False"
      ]
     },
     "execution_count": 9,
     "metadata": {},
     "output_type": "execute_result"
    }
   ],
   "source": [
    "# False도 마찬가지입니다.\n",
    "False == \"0\""
   ]
  },
  {
   "cell_type": "code",
   "execution_count": 10,
   "id": "d051fde5",
   "metadata": {},
   "outputs": [
    {
     "data": {
      "text/plain": [
       "True"
      ]
     },
     "execution_count": 10,
     "metadata": {},
     "output_type": "execute_result"
    }
   ],
   "source": [
    "# False는 문자열 0과 다릅니다.\n",
    "False != \"0\""
   ]
  },
  {
   "cell_type": "code",
   "execution_count": 11,
   "id": "b23b76ee",
   "metadata": {},
   "outputs": [
    {
     "data": {
      "text/plain": [
       "True"
      ]
     },
     "execution_count": 11,
     "metadata": {},
     "output_type": "execute_result"
    }
   ],
   "source": [
    "# and 연산으로 True 값끼리 비교합니다.\n",
    "# and는 모든 값이 True일 때만 True가 됩니다.\n",
    "True and True"
   ]
  },
  {
   "cell_type": "code",
   "execution_count": 12,
   "id": "2a750a5f",
   "metadata": {},
   "outputs": [
    {
     "data": {
      "text/plain": [
       "False"
      ]
     },
     "execution_count": 12,
     "metadata": {},
     "output_type": "execute_result"
    }
   ],
   "source": [
    "# and는 조건 중 하나라도 False라면 False가 됩니다.\n",
    "True and False"
   ]
  },
  {
   "cell_type": "code",
   "execution_count": 13,
   "id": "bb3ce48a",
   "metadata": {},
   "outputs": [
    {
     "data": {
      "text/plain": [
       "True"
      ]
     },
     "execution_count": 13,
     "metadata": {},
     "output_type": "execute_result"
    }
   ],
   "source": [
    "# or는 하나만 True라도 True가 됩니다.\n",
    "True or False"
   ]
  },
  {
   "cell_type": "markdown",
   "id": "ae940c48",
   "metadata": {},
   "source": [
    "# Number and String\n",
    "* 숫자 1과 문자 1은 다릅니다. 숫자 1과 문자 1의 데이터 타입을 출력해 보세요.\n",
    "* 데이터 타입을 표현할 때 type을 통해 데이터를 출력합니다."
   ]
  },
  {
   "cell_type": "code",
   "execution_count": 14,
   "id": "31b7494a",
   "metadata": {},
   "outputs": [
    {
     "data": {
      "text/plain": [
       "1"
      ]
     },
     "execution_count": 14,
     "metadata": {},
     "output_type": "execute_result"
    }
   ],
   "source": [
    "# 숫자 1을 출력해 보세요.\n",
    "1"
   ]
  },
  {
   "cell_type": "code",
   "execution_count": 15,
   "id": "149bf5f0",
   "metadata": {},
   "outputs": [
    {
     "data": {
      "text/plain": [
       "'1'"
      ]
     },
     "execution_count": 15,
     "metadata": {},
     "output_type": "execute_result"
    }
   ],
   "source": [
    "# 문자 1을 출력해 보세요.\n",
    "\"1\""
   ]
  },
  {
   "cell_type": "code",
   "execution_count": 17,
   "id": "548901f5",
   "metadata": {},
   "outputs": [
    {
     "data": {
      "text/plain": [
       "int"
      ]
     },
     "execution_count": 17,
     "metadata": {},
     "output_type": "execute_result"
    }
   ],
   "source": [
    "# 숫자 1의 데이터 타입을 출력해 보세요.\n",
    "type(1)"
   ]
  },
  {
   "cell_type": "code",
   "execution_count": 18,
   "id": "1fe2a463",
   "metadata": {},
   "outputs": [
    {
     "data": {
      "text/plain": [
       "str"
      ]
     },
     "execution_count": 18,
     "metadata": {},
     "output_type": "execute_result"
    }
   ],
   "source": [
    "# 문자 1의 데이터 타입을 출력해 보세요.\n",
    "type(\"1\")"
   ]
  },
  {
   "cell_type": "code",
   "execution_count": 19,
   "id": "3aa51bf3",
   "metadata": {},
   "outputs": [
    {
     "data": {
      "text/plain": [
       "False"
      ]
     },
     "execution_count": 19,
     "metadata": {},
     "output_type": "execute_result"
    }
   ],
   "source": [
    "# 문자 1과 숫자 1을 비교합니다.\n",
    "1 == \"1\""
   ]
  },
  {
   "cell_type": "markdown",
   "id": "b180e6c1",
   "metadata": {},
   "source": [
    "# Strings and Lists\n",
    "* https://docs.python.org/3/tutorial/introduction.html#strings\n",
    "* https://docs.python.org/3/tutorial/introduction.html#lists"
   ]
  },
  {
   "cell_type": "code",
   "execution_count": 20,
   "id": "b453f0b2",
   "metadata": {},
   "outputs": [
    {
     "data": {
      "text/plain": [
       "'Hello World!'"
      ]
     },
     "execution_count": 20,
     "metadata": {},
     "output_type": "execute_result"
    }
   ],
   "source": [
    "# \"Hello World!\"를 출력해 봅니다.\n",
    "\"Hello World!\""
   ]
  },
  {
   "cell_type": "code",
   "execution_count": 21,
   "id": "b79f6bc9",
   "metadata": {},
   "outputs": [
    {
     "data": {
      "text/plain": [
       "'경기도 성남시 분당구'"
      ]
     },
     "execution_count": 21,
     "metadata": {},
     "output_type": "execute_result"
    }
   ],
   "source": [
    "# 주소 \"경기도 성남시 분당구\"를 출력해 봅니다.\n",
    "\"경기도 성남시 분당구\""
   ]
  },
  {
   "cell_type": "markdown",
   "id": "a71c1c11",
   "metadata": {},
   "source": [
    "## strings"
   ]
  },
  {
   "cell_type": "code",
   "execution_count": 22,
   "id": "3a0ba497",
   "metadata": {},
   "outputs": [
    {
     "data": {
      "text/plain": [
       "'Today I Learned'"
      ]
     },
     "execution_count": 22,
     "metadata": {},
     "output_type": "execute_result"
    }
   ],
   "source": [
    "# til 이라는 변수에 문자열을 담아봅니다.\n",
    "til = \"Today I Learned\"\n",
    "til"
   ]
  },
  {
   "cell_type": "code",
   "execution_count": 23,
   "id": "5e162908",
   "metadata": {},
   "outputs": [
    {
     "data": {
      "text/plain": [
       "'today i learned'"
      ]
     },
     "execution_count": 23,
     "metadata": {},
     "output_type": "execute_result"
    }
   ],
   "source": [
    "# 모두 소문자로 만들어 보세요.\n",
    "til.lower()"
   ]
  },
  {
   "cell_type": "code",
   "execution_count": 24,
   "id": "1427c1dd",
   "metadata": {},
   "outputs": [
    {
     "data": {
      "text/plain": [
       "'TODAY I LEARNED'"
      ]
     },
     "execution_count": 24,
     "metadata": {},
     "output_type": "execute_result"
    }
   ],
   "source": [
    "# 모두 대문자로 만들어 보세요.\n",
    "til.upper()"
   ]
  },
  {
   "cell_type": "markdown",
   "id": "347f09f3",
   "metadata": {},
   "source": [
    "## lists"
   ]
  },
  {
   "cell_type": "code",
   "execution_count": 25,
   "id": "39829eef",
   "metadata": {},
   "outputs": [
    {
     "data": {
      "text/plain": [
       "[]"
      ]
     },
     "execution_count": 25,
     "metadata": {},
     "output_type": "execute_result"
    }
   ],
   "source": [
    "# 비어있는 리스트를 만듭니다. lang이라는 변수에 담습니다.\n",
    "lang = []\n",
    "lang"
   ]
  },
  {
   "cell_type": "code",
   "execution_count": 26,
   "id": "69baef16",
   "metadata": {},
   "outputs": [
    {
     "data": {
      "text/plain": [
       "['python', 'java', 'c']"
      ]
     },
     "execution_count": 26,
     "metadata": {},
     "output_type": "execute_result"
    }
   ],
   "source": [
    "# python, java, c를 원소에 추가합니다.\n",
    "lang.append(\"python\")\n",
    "lang.append(\"java\")\n",
    "lang.append(\"c\")\n",
    "lang"
   ]
  },
  {
   "cell_type": "code",
   "execution_count": 27,
   "id": "3fb5bfb5",
   "metadata": {},
   "outputs": [
    {
     "data": {
      "text/plain": [
       "'python'"
      ]
     },
     "execution_count": 27,
     "metadata": {},
     "output_type": "execute_result"
    }
   ],
   "source": [
    "# lang이라는 변수에 담겨있는 언어명을 인덱싱을 통해 가져옵니다.\n",
    "lang[0]"
   ]
  },
  {
   "cell_type": "code",
   "execution_count": 28,
   "id": "dc2e08fb",
   "metadata": {},
   "outputs": [
    {
     "data": {
      "text/plain": [
       "'java'"
      ]
     },
     "execution_count": 28,
     "metadata": {},
     "output_type": "execute_result"
    }
   ],
   "source": [
    "# 1번 인덱스를 가져옵니다.\n",
    "lang[1]"
   ]
  },
  {
   "cell_type": "code",
   "execution_count": 30,
   "id": "2143c0ad",
   "metadata": {},
   "outputs": [
    {
     "data": {
      "text/plain": [
       "'c'"
      ]
     },
     "execution_count": 30,
     "metadata": {},
     "output_type": "execute_result"
    }
   ],
   "source": [
    "# 마지막 인덱스를 가져옵니다.\n",
    "lang[-1]"
   ]
  },
  {
   "cell_type": "markdown",
   "id": "84759aed",
   "metadata": {},
   "source": [
    "# Control Flow\n",
    "* [More Control Flow Tools - Python documentation](https://docs.python.org/3/tutorial/controlflow.html)\n",
    "* 제어문 - 조건문, 반복문"
   ]
  },
  {
   "cell_type": "code",
   "execution_count": 32,
   "id": "8f8622e6",
   "metadata": {},
   "outputs": [
    {
     "name": "stdout",
     "output_type": "stream",
     "text": [
      "python\n",
      "java\n",
      "c\n"
     ]
    }
   ],
   "source": [
    "# 반복문을 통해 리스트의 원소를 하나씩 출력합니다.\n",
    "for i in lang:\n",
    "    print(i)"
   ]
  },
  {
   "cell_type": "code",
   "execution_count": 33,
   "id": "9af4d1ed",
   "metadata": {},
   "outputs": [
    {
     "name": "stdout",
     "output_type": "stream",
     "text": [
      "python\n",
      "기타\n",
      "기타\n"
     ]
    }
   ],
   "source": [
    "# 위 코드에서 python일 때는 그대로 출력하고 나머지 텍스트는 \"기타\"라고 출력합니다.\n",
    "# 출력 결과가 아래의 순서로 나오도록 합니다.\n",
    "# python\n",
    "# 기타\n",
    "# 기타\n",
    "for i in lang:\n",
    "    if i == \"python\":\n",
    "        print(i)\n",
    "    else:\n",
    "        print(\"기타\")"
   ]
  },
  {
   "cell_type": "code",
   "execution_count": 38,
   "id": "070ca952",
   "metadata": {},
   "outputs": [
    {
     "name": "stdout",
     "output_type": "stream",
     "text": [
      "python\n",
      "java\n",
      "c\n"
     ]
    }
   ],
   "source": [
    "# 특정 횟수만큼 반복문을 실행하도록 합니다.\n",
    "for i in range(3):\n",
    "    print(lang[i])"
   ]
  },
  {
   "cell_type": "code",
   "execution_count": 40,
   "id": "9d02840b",
   "metadata": {},
   "outputs": [
    {
     "name": "stdout",
     "output_type": "stream",
     "text": [
      "java\n",
      "python\n",
      "java\n",
      "python\n",
      "java\n",
      "python\n",
      "java\n",
      "python\n",
      "java\n"
     ]
    }
   ],
   "source": [
    "# for문과 if문을 함께 사용해 봅니다.\n",
    "# 짝수일 때 python을 홀수일 대 java를 출력합니다.\n",
    "for i in range(1,10):\n",
    "    if i % 2 == 0:\n",
    "        print(\"python\")\n",
    "    else:\n",
    "        print(\"java\")"
   ]
  },
  {
   "cell_type": "code",
   "execution_count": 43,
   "id": "b5c73a78",
   "metadata": {},
   "outputs": [
    {
     "name": "stdout",
     "output_type": "stream",
     "text": [
      "0 python\n",
      "1 java\n",
      "2 c\n"
     ]
    }
   ],
   "source": [
    "# enumerate를 사용하면 인덱스 번호와 원소를 같이 가져올 수 있습니다.\n",
    "for i, val in enumerate(lang):\n",
    "    print(i, val)"
   ]
  },
  {
   "cell_type": "markdown",
   "id": "fde467e3",
   "metadata": {},
   "source": [
    "## 문자열"
   ]
  },
  {
   "cell_type": "code",
   "execution_count": 45,
   "id": "1f3755f4",
   "metadata": {},
   "outputs": [
    {
     "data": {
      "text/plain": [
       "' 경기도 성남시 분당구 불정로 6 NAVER 그린팩토리 16층 '"
      ]
     },
     "execution_count": 45,
     "metadata": {},
     "output_type": "execute_result"
    }
   ],
   "source": [
    "# 주소를 address 변수에 담습니다.\n",
    "address = \" 경기도 성남시 분당구 불정로 6 NAVER 그린팩토리 16층 \"\n",
    "address"
   ]
  },
  {
   "cell_type": "code",
   "execution_count": 46,
   "id": "7347b00c",
   "metadata": {},
   "outputs": [
    {
     "data": {
      "text/plain": [
       "'경기도 성남시 분당구 불정로 6 NAVER 그린팩토리 16층'"
      ]
     },
     "execution_count": 46,
     "metadata": {},
     "output_type": "execute_result"
    }
   ],
   "source": [
    "# 앞뒤 공백을 제거합니다.\n",
    "# 데이터 전처리 시 주로 사용합니다.\n",
    "address = address.strip()\n",
    "address"
   ]
  },
  {
   "cell_type": "code",
   "execution_count": 47,
   "id": "f3de3878",
   "metadata": {},
   "outputs": [
    {
     "data": {
      "text/plain": [
       "33"
      ]
     },
     "execution_count": 47,
     "metadata": {},
     "output_type": "execute_result"
    }
   ],
   "source": [
    "# 문자열의 길이\n",
    "len(address)"
   ]
  },
  {
   "cell_type": "code",
   "execution_count": 54,
   "id": "a0c15d15",
   "metadata": {},
   "outputs": [
    {
     "data": {
      "text/plain": [
       "['경기도', '성남시', '분당구', '불정로', '6', 'NAVER', '그린팩토리', '16층']"
      ]
     },
     "execution_count": 54,
     "metadata": {},
     "output_type": "execute_result"
    }
   ],
   "source": [
    "# 공백으로 문자열 분리\n",
    "address_list = address.split()\n",
    "address_list"
   ]
  },
  {
   "cell_type": "code",
   "execution_count": 49,
   "id": "6a3c0b0d",
   "metadata": {},
   "outputs": [
    {
     "data": {
      "text/plain": [
       "33"
      ]
     },
     "execution_count": 49,
     "metadata": {},
     "output_type": "execute_result"
    }
   ],
   "source": [
    "# 리스트의 길이\n",
    "len(address)"
   ]
  },
  {
   "cell_type": "markdown",
   "id": "3f87f349",
   "metadata": {},
   "source": [
    "* 슬라이싱, startswith, in을 통해 문자열에 서울이 있는지 확인하기"
   ]
  },
  {
   "cell_type": "code",
   "execution_count": 50,
   "id": "91b8efb4",
   "metadata": {},
   "outputs": [
    {
     "data": {
      "text/plain": [
       "'경기'"
      ]
     },
     "execution_count": 50,
     "metadata": {},
     "output_type": "execute_result"
    }
   ],
   "source": [
    "# 슬라이싱으로 문자 가져오기\n",
    "address[:2]"
   ]
  },
  {
   "cell_type": "code",
   "execution_count": 51,
   "id": "ed2cdb5f",
   "metadata": {},
   "outputs": [
    {
     "data": {
      "text/plain": [
       "True"
      ]
     },
     "execution_count": 51,
     "metadata": {},
     "output_type": "execute_result"
    }
   ],
   "source": [
    "# startswith를 사용하여 특정 문자가 포함되는지 여부를 확인할 수 있습니다.\n",
    "address.startswith(\"경기\")"
   ]
  },
  {
   "cell_type": "code",
   "execution_count": 52,
   "id": "7c320b8b",
   "metadata": {},
   "outputs": [
    {
     "data": {
      "text/plain": [
       "True"
      ]
     },
     "execution_count": 52,
     "metadata": {},
     "output_type": "execute_result"
    }
   ],
   "source": [
    "# in을 사용하게 되면 특정 문자열을 포함하고 있는지 여부를 확인할 수 있습니다.\n",
    "\"경기\" in address"
   ]
  },
  {
   "cell_type": "markdown",
   "id": "0548cf99",
   "metadata": {},
   "source": [
    "## 리스트\n",
    "* 문자열에서 쓰는 방법과 비슷하게 메소드 등을 사용할 수 있습니다.\n",
    "* 차이를 비교해 보세요."
   ]
  },
  {
   "cell_type": "code",
   "execution_count": 64,
   "id": "b03b0f61",
   "metadata": {},
   "outputs": [
    {
     "data": {
      "text/plain": [
       "'분당구'"
      ]
     },
     "execution_count": 64,
     "metadata": {},
     "output_type": "execute_result"
    }
   ],
   "source": [
    "# 인덱싱으로 리스트의 원소 가져오기 - 주소에서 구를 가져와 gu라는 변수에 담아보세요.\n",
    "gu = address_list[2]\n",
    "gu"
   ]
  },
  {
   "cell_type": "code",
   "execution_count": 57,
   "id": "64c26076",
   "metadata": {},
   "outputs": [
    {
     "data": {
      "text/plain": [
       "'불정로'"
      ]
     },
     "execution_count": 57,
     "metadata": {},
     "output_type": "execute_result"
    }
   ],
   "source": [
    "# 인덱싱으로 리스트의 원소 가져오기 - 주소에서 도로명을 가져와 street이라는 변수에 담아보세요.\n",
    "street = address_list[3]\n",
    "street"
   ]
  },
  {
   "cell_type": "code",
   "execution_count": 58,
   "id": "9612387f",
   "metadata": {},
   "outputs": [
    {
     "data": {
      "text/plain": [
       "'16층'"
      ]
     },
     "execution_count": 58,
     "metadata": {},
     "output_type": "execute_result"
    }
   ],
   "source": [
    "# 리스트의 마지막을 가져옵니다.\n",
    "address_list[-1]"
   ]
  },
  {
   "cell_type": "code",
   "execution_count": 60,
   "id": "8d9ef7f0",
   "metadata": {},
   "outputs": [
    {
     "data": {
      "text/plain": [
       "'경기도 성남시 분당구 불정로 6 NAVER 그린팩토리 16층'"
      ]
     },
     "execution_count": 60,
     "metadata": {},
     "output_type": "execute_result"
    }
   ],
   "source": [
    "# \" \".join(리스트)를 사용하면 리스트를 공백 문자열로 연결할 수 있습니다.\n",
    "# 리스트로 분리된 문자열을 다시 연결합니다.\n",
    "\" \".join(address_list)"
   ]
  },
  {
   "cell_type": "code",
   "execution_count": 61,
   "id": "7ef47c61",
   "metadata": {},
   "outputs": [
    {
     "data": {
      "text/plain": [
       "False"
      ]
     },
     "execution_count": 61,
     "metadata": {},
     "output_type": "execute_result"
    }
   ],
   "source": [
    "# in을 사용하게 되면 리스트에 해당 데이터를 포함하고 있는지 여부를 확인할 수 있습니다.\n",
    "# \"경기\"가 리스트에 포함되는지 봅니다.\n",
    "\"경기\" in address_list"
   ]
  },
  {
   "cell_type": "code",
   "execution_count": 62,
   "id": "b24fbf15",
   "metadata": {},
   "outputs": [
    {
     "data": {
      "text/plain": [
       "True"
      ]
     },
     "execution_count": 62,
     "metadata": {},
     "output_type": "execute_result"
    }
   ],
   "source": [
    "# \"분당구\"가 리스트에 포함되는지 봅니다.\n",
    "\"분당구\" in address_list"
   ]
  }
 ],
 "metadata": {
  "kernelspec": {
   "display_name": "Python 3 (ipykernel)",
   "language": "python",
   "name": "python3"
  },
  "language_info": {
   "codemirror_mode": {
    "name": "ipython",
    "version": 3
   },
   "file_extension": ".py",
   "mimetype": "text/x-python",
   "name": "python",
   "nbconvert_exporter": "python",
   "pygments_lexer": "ipython3",
   "version": "3.9.7"
  },
  "toc": {
   "base_numbering": 1,
   "nav_menu": {},
   "number_sections": false,
   "sideBar": true,
   "skip_h1_title": false,
   "title_cell": "Table of Contents",
   "title_sidebar": "Contents",
   "toc_cell": false,
   "toc_position": {},
   "toc_section_display": true,
   "toc_window_display": false
  }
 },
 "nbformat": 4,
 "nbformat_minor": 5
}
