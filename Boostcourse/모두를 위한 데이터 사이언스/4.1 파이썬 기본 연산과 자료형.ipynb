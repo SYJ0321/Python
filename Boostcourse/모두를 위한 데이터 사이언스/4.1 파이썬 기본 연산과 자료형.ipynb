{
  "cells": [
    {
      "cell_type": "markdown",
      "metadata": {
        "id": "view-in-github",
        "colab_type": "text"
      },
      "source": [
        "<a href=\"https://colab.research.google.com/github/SYJ0321/Python/blob/main/4_1_%ED%8C%8C%EC%9D%B4%EC%8D%AC_%EA%B8%B0%EB%B3%B8_%EC%97%B0%EC%82%B0%EA%B3%BC_%EC%9E%90%EB%A3%8C%ED%98%95_input_ipynb%EC%9D%98_%EC%82%AC%EB%B3%B8.ipynb\" target=\"_parent\"><img src=\"https://colab.research.google.com/assets/colab-badge.svg\" alt=\"Open In Colab\"/></a>"
      ]
    },
    {
      "cell_type": "markdown",
      "metadata": {
        "id": "h63gKkC2u4F8"
      },
      "source": [
        "* 파이썬 공식 튜토리얼 : \n",
        "    * 영문 : https://docs.python.org/3/tutorial/introduction.html\n",
        "    * 한글 : https://docs.python.org/ko/3/tutorial/index.html\n",
        "\n",
        "\n",
        "## Zen of Python\n",
        "* 파이썬의 철학이 잘 담겨있는 Zen of Python 을 출력해 봅니다.\n",
        "    * \"아름다운 게 추한 것보다 낫다.\" (Beautiful is better than ugly)\n",
        "    * \"명시적인 것이 암시적인 것 보다 낫다.\" (Explicit is better than implicit)\n",
        "    * \"단순함이 복잡함보다 낫다.\" (Simple is better than complex)\n",
        "    * \"복잡함이 난해한 것보다 낫다.\" (Complex is better than complicated)\n",
        "    * \"가독성은 중요하다.\" (Readability counts)\n",
        "    \n",
        "* import를 통해 파이썬의 라이브러리나 패키지를 가져올 수 있습니다."
      ]
    },
    {
      "cell_type": "code",
      "execution_count": null,
      "metadata": {
        "id": "PxUHokR8sQ8q",
        "colab": {
          "base_uri": "https://localhost:8080/"
        },
        "outputId": "11cebc0e-b3a7-4810-c959-54b60ab18610"
      },
      "outputs": [
        {
          "output_type": "stream",
          "name": "stdout",
          "text": [
            "The Zen of Python, by Tim Peters\n",
            "\n",
            "Beautiful is better than ugly.\n",
            "Explicit is better than implicit.\n",
            "Simple is better than complex.\n",
            "Complex is better than complicated.\n",
            "Flat is better than nested.\n",
            "Sparse is better than dense.\n",
            "Readability counts.\n",
            "Special cases aren't special enough to break the rules.\n",
            "Although practicality beats purity.\n",
            "Errors should never pass silently.\n",
            "Unless explicitly silenced.\n",
            "In the face of ambiguity, refuse the temptation to guess.\n",
            "There should be one-- and preferably only one --obvious way to do it.\n",
            "Although that way may not be obvious at first unless you're Dutch.\n",
            "Now is better than never.\n",
            "Although never is often better than *right* now.\n",
            "If the implementation is hard to explain, it's a bad idea.\n",
            "If the implementation is easy to explain, it may be a good idea.\n",
            "Namespaces are one honking great idea -- let's do more of those!\n"
          ]
        }
      ],
      "source": [
        "# import this를 출력해 봅니다.\n",
        "import this"
      ]
    },
    {
      "cell_type": "markdown",
      "metadata": {
        "id": "IKtKhhh8S8CB"
      },
      "source": [
        "## 숫자\n",
        "* https://docs.python.org/ko/3/tutorial/introduction.html#numbers"
      ]
    },
    {
      "cell_type": "code",
      "execution_count": null,
      "metadata": {
        "scrolled": true,
        "id": "TryU0lAqS8CC",
        "colab": {
          "base_uri": "https://localhost:8080/"
        },
        "outputId": "9bb997da-e504-494b-a216-7fffc9d8350f"
      },
      "outputs": [
        {
          "output_type": "execute_result",
          "data": {
            "text/plain": [
              "1"
            ]
          },
          "metadata": {},
          "execution_count": 2
        }
      ],
      "source": [
        "# 정수 1을 출력해 봅니다.\n",
        "1"
      ]
    },
    {
      "cell_type": "code",
      "execution_count": null,
      "metadata": {
        "id": "Nhmt3gB5S8CD",
        "colab": {
          "base_uri": "https://localhost:8080/"
        },
        "outputId": "e7aa498e-17b3-449a-9ff3-5576ab1d8cb7"
      },
      "outputs": [
        {
          "output_type": "execute_result",
          "data": {
            "text/plain": [
              "1.0"
            ]
          },
          "metadata": {},
          "execution_count": 3
        }
      ],
      "source": [
        "# 실수 1을 출력해 봅니다.\n",
        "1.0"
      ]
    },
    {
      "cell_type": "code",
      "execution_count": null,
      "metadata": {
        "id": "5AoKSkMkS8CE",
        "colab": {
          "base_uri": "https://localhost:8080/"
        },
        "outputId": "d77e3042-51b1-4f93-af3b-410380625185"
      },
      "outputs": [
        {
          "output_type": "execute_result",
          "data": {
            "text/plain": [
              "int"
            ]
          },
          "metadata": {},
          "execution_count": 4
        }
      ],
      "source": [
        "# 정수 1의 타입을 출력해 봅니다.\n",
        "type(1)"
      ]
    },
    {
      "cell_type": "code",
      "execution_count": null,
      "metadata": {
        "id": "DR1m54vBS8CF",
        "colab": {
          "base_uri": "https://localhost:8080/"
        },
        "outputId": "1760fc05-7978-4055-f0b1-7ed768f066db"
      },
      "outputs": [
        {
          "output_type": "execute_result",
          "data": {
            "text/plain": [
              "float"
            ]
          },
          "metadata": {},
          "execution_count": 5
        }
      ],
      "source": [
        "# 실수 1의 타입을 출력해 봅니다.\n",
        "type(1.0)"
      ]
    },
    {
      "cell_type": "markdown",
      "metadata": {
        "id": "tZZ-jIGoS8CG"
      },
      "source": [
        "## 사칙연산"
      ]
    },
    {
      "cell_type": "markdown",
      "source": [
        "* 연산자 앞뒤로 띄어쓰기가 권장됨"
      ],
      "metadata": {
        "id": "R-vvQjayVmNf"
      }
    },
    {
      "cell_type": "code",
      "execution_count": null,
      "metadata": {
        "id": "AMGF6IH5S8CH",
        "colab": {
          "base_uri": "https://localhost:8080/"
        },
        "outputId": "af0304b9-bc50-429a-9939-3340986e8d03"
      },
      "outputs": [
        {
          "output_type": "execute_result",
          "data": {
            "text/plain": [
              "3"
            ]
          },
          "metadata": {},
          "execution_count": 6
        }
      ],
      "source": [
        "# 더하기\n",
        "1 + 2"
      ]
    },
    {
      "cell_type": "code",
      "execution_count": null,
      "metadata": {
        "id": "cV885VHIS8CI",
        "colab": {
          "base_uri": "https://localhost:8080/"
        },
        "outputId": "853d1b5d-01f3-4011-b651-ede0d89dd70b"
      },
      "outputs": [
        {
          "output_type": "execute_result",
          "data": {
            "text/plain": [
              "1"
            ]
          },
          "metadata": {},
          "execution_count": 7
        }
      ],
      "source": [
        "# 빼기\n",
        "3 - 2"
      ]
    },
    {
      "cell_type": "code",
      "execution_count": null,
      "metadata": {
        "id": "CZuqIE5TS8CJ",
        "colab": {
          "base_uri": "https://localhost:8080/"
        },
        "outputId": "720eeee1-8f89-40a3-ffc0-fc13040a7d49"
      },
      "outputs": [
        {
          "output_type": "execute_result",
          "data": {
            "text/plain": [
              "6"
            ]
          },
          "metadata": {},
          "execution_count": 8
        }
      ],
      "source": [
        "# 곱하기\n",
        "2 * 3"
      ]
    },
    {
      "cell_type": "code",
      "execution_count": null,
      "metadata": {
        "id": "OiZpvvUbS8CJ",
        "colab": {
          "base_uri": "https://localhost:8080/"
        },
        "outputId": "c05b0600-87dd-452e-eb85-99914e35e094"
      },
      "outputs": [
        {
          "output_type": "execute_result",
          "data": {
            "text/plain": [
              "1.5"
            ]
          },
          "metadata": {},
          "execution_count": 9
        }
      ],
      "source": [
        "# 나누기\n",
        "3 / 2"
      ]
    },
    {
      "cell_type": "code",
      "execution_count": null,
      "metadata": {
        "id": "SNbHn06zS8CK",
        "colab": {
          "base_uri": "https://localhost:8080/"
        },
        "outputId": "51f0c773-049d-4a41-856d-d7d9ad6fefa7"
      },
      "outputs": [
        {
          "output_type": "execute_result",
          "data": {
            "text/plain": [
              "1"
            ]
          },
          "metadata": {},
          "execution_count": 10
        }
      ],
      "source": [
        "# 나누기 후 몫만 반환\n",
        "3 // 2"
      ]
    },
    {
      "cell_type": "code",
      "execution_count": null,
      "metadata": {
        "id": "9InOLerQS8CK",
        "colab": {
          "base_uri": "https://localhost:8080/"
        },
        "outputId": "3634c684-86c2-4667-c3d0-76a93de55bbf"
      },
      "outputs": [
        {
          "output_type": "execute_result",
          "data": {
            "text/plain": [
              "1"
            ]
          },
          "metadata": {},
          "execution_count": 11
        }
      ],
      "source": [
        "# 나누기 후 나머지만 반환\n",
        "3 % 2"
      ]
    },
    {
      "cell_type": "markdown",
      "metadata": {
        "id": "J7-6ey7MS8CL"
      },
      "source": [
        "## 변수\n",
        "* 변수명은 숫자로 시작할 수 없습니다.\n",
        "* 변수명은 언더바(_)를 제외한 특수문자를 사용할 수 없습니다.\n",
        "\n",
        "```\n",
        "---------------------------------------------------------------------------\n",
        "NameError                                 Traceback (most recent call last)\n",
        "<ipython-input-26-ab0680a89434> in <module>\n",
        "----> 1 n\n",
        "\n",
        "NameError: name 'n' is not defined\n",
        "\n",
        "```"
      ]
    },
    {
      "cell_type": "code",
      "execution_count": null,
      "metadata": {
        "id": "6fyyySvHS8CM",
        "colab": {
          "base_uri": "https://localhost:8080/",
          "height": 195
        },
        "outputId": "64420d12-a4a9-49a5-f370-f5f0139e0a24"
      },
      "outputs": [
        {
          "output_type": "error",
          "ename": "NameError",
          "evalue": "ignored",
          "traceback": [
            "\u001b[0;31m---------------------------------------------------------------------------\u001b[0m",
            "\u001b[0;31mNameError\u001b[0m                                 Traceback (most recent call last)",
            "\u001b[0;32m<ipython-input-12-511e6ccb3aba>\u001b[0m in \u001b[0;36m<module>\u001b[0;34m()\u001b[0m\n\u001b[1;32m      1\u001b[0m \u001b[0;31m# 정의되지 않은 변수를 출력해 보면 어떤 오류 메시지가 나오는지 확인해 봅니다.\u001b[0m\u001b[0;34m\u001b[0m\u001b[0;34m\u001b[0m\u001b[0;34m\u001b[0m\u001b[0m\n\u001b[0;32m----> 2\u001b[0;31m \u001b[0mn\u001b[0m\u001b[0;34m\u001b[0m\u001b[0;34m\u001b[0m\u001b[0m\n\u001b[0m",
            "\u001b[0;31mNameError\u001b[0m: name 'n' is not defined"
          ]
        }
      ],
      "source": [
        "# 정의되지 않은 변수를 출력해 보면 어떤 오류 메시지가 나오는지 확인해 봅니다.\n",
        "n"
      ]
    },
    {
      "cell_type": "markdown",
      "metadata": {
        "id": "o3uIOfpMS8CM"
      },
      "source": [
        "## 응용\n",
        "* 변수에 값을 할당하고 면적을 구해 봅니다."
      ]
    },
    {
      "cell_type": "code",
      "execution_count": null,
      "metadata": {
        "id": "lEtMJYd3S8CM",
        "colab": {
          "base_uri": "https://localhost:8080/"
        },
        "outputId": "22de45dd-5449-4e3f-e4b8-c1d2476f9cca"
      },
      "outputs": [
        {
          "output_type": "execute_result",
          "data": {
            "text/plain": [
              "100"
            ]
          },
          "metadata": {},
          "execution_count": 13
        }
      ],
      "source": [
        "width = 20\n",
        "height = 5\n",
        "\n",
        "width * height"
      ]
    },
    {
      "cell_type": "markdown",
      "metadata": {
        "id": "TE6eJgwlS8CN"
      },
      "source": [
        "## 문자열\n",
        "* https://docs.python.org/ko/3/tutorial/introduction.html#strings\n",
        "### 문자열 정의"
      ]
    },
    {
      "cell_type": "code",
      "execution_count": null,
      "metadata": {
        "id": "gtDGhvDAS8CN",
        "colab": {
          "base_uri": "https://localhost:8080/",
          "height": 36
        },
        "outputId": "180c1754-15df-4158-93e8-d656b0285b14"
      },
      "outputs": [
        {
          "output_type": "execute_result",
          "data": {
            "application/vnd.google.colaboratory.intrinsic+json": {
              "type": "string"
            },
            "text/plain": [
              "'파이썬'"
            ]
          },
          "metadata": {},
          "execution_count": 14
        }
      ],
      "source": [
        "# 큰따옴표로 문자열을 정의합니다.\n",
        "\"파이썬\""
      ]
    },
    {
      "cell_type": "code",
      "execution_count": null,
      "metadata": {
        "id": "ClwKKaFjS8CN",
        "colab": {
          "base_uri": "https://localhost:8080/",
          "height": 36
        },
        "outputId": "a6adaa9d-d76e-489c-c6e8-49a13c610a4d"
      },
      "outputs": [
        {
          "output_type": "execute_result",
          "data": {
            "application/vnd.google.colaboratory.intrinsic+json": {
              "type": "string"
            },
            "text/plain": [
              "'파이썬'"
            ]
          },
          "metadata": {},
          "execution_count": 15
        }
      ],
      "source": [
        "# 작은따옴표로 문자열을 정의합니다.\n",
        "'파이썬'"
      ]
    },
    {
      "cell_type": "code",
      "execution_count": null,
      "metadata": {
        "id": "cgD7w7sZS8CO",
        "colab": {
          "base_uri": "https://localhost:8080/",
          "height": 36
        },
        "outputId": "ffcb4b64-46e2-4744-8196-21b52955d776"
      },
      "outputs": [
        {
          "output_type": "execute_result",
          "data": {
            "application/vnd.google.colaboratory.intrinsic+json": {
              "type": "string"
            },
            "text/plain": [
              "\"파이썬's\""
            ]
          },
          "metadata": {},
          "execution_count": 16
        }
      ],
      "source": [
        "# 큰따옴표와 작은따옴표의 차이를 알아봅니다.\n",
        "\"파이썬's\""
      ]
    },
    {
      "cell_type": "code",
      "source": [
        "'파이썬\\'s'"
      ],
      "metadata": {
        "colab": {
          "base_uri": "https://localhost:8080/",
          "height": 36
        },
        "id": "RpV4eW5kXB_1",
        "outputId": "aa422ad1-2020-4541-a0ba-12391e3ced29"
      },
      "execution_count": null,
      "outputs": [
        {
          "output_type": "execute_result",
          "data": {
            "application/vnd.google.colaboratory.intrinsic+json": {
              "type": "string"
            },
            "text/plain": [
              "\"파이썬's\""
            ]
          },
          "metadata": {},
          "execution_count": 17
        }
      ]
    },
    {
      "cell_type": "code",
      "execution_count": null,
      "metadata": {
        "id": "7xucbpYXS8CO",
        "colab": {
          "base_uri": "https://localhost:8080/",
          "height": 36
        },
        "outputId": "43bc5c17-2536-4d8d-853d-3ee29b18ebdf"
      },
      "outputs": [
        {
          "output_type": "execute_result",
          "data": {
            "application/vnd.google.colaboratory.intrinsic+json": {
              "type": "string"
            },
            "text/plain": [
              "'\\n줄바꿈\\n문자를\\n표현합니다.\\n'"
            ]
          },
          "metadata": {},
          "execution_count": 18
        }
      ],
      "source": [
        "# 줄바꿈 문자를 표현합니다.\n",
        "\"\"\"\n",
        "줄바꿈\n",
        "문자를\n",
        "표현합니다.\n",
        "\"\"\""
      ]
    },
    {
      "cell_type": "code",
      "execution_count": null,
      "metadata": {
        "id": "H7NF0yFBS8CO",
        "colab": {
          "base_uri": "https://localhost:8080/",
          "height": 36
        },
        "outputId": "e137b6fd-e85b-4ade-9e19-501b96ccec78"
      },
      "outputs": [
        {
          "output_type": "execute_result",
          "data": {
            "application/vnd.google.colaboratory.intrinsic+json": {
              "type": "string"
            },
            "text/plain": [
              "'--------------------'"
            ]
          },
          "metadata": {},
          "execution_count": 20
        }
      ],
      "source": [
        "# *를 통해 문자를 반복 출력합니다.\n",
        "\"-\" * 20"
      ]
    },
    {
      "cell_type": "markdown",
      "metadata": {
        "id": "qcBzxZwWS8CO"
      },
      "source": [
        "### 문자열 인덱싱\n",
        "\n",
        "\n",
        "```\n",
        " +---+---+---+---+---+---+\n",
        " | P | y | t | h | o | n |\n",
        " +---+---+---+---+---+---+\n",
        " 0   1   2   3   4   5   6\n",
        "-6  -5  -4  -3  -2  -1\n",
        "```"
      ]
    },
    {
      "cell_type": "code",
      "execution_count": null,
      "metadata": {
        "id": "GAJamK0cS8CP",
        "colab": {
          "base_uri": "https://localhost:8080/",
          "height": 36
        },
        "outputId": "804ecbde-da20-491e-8cff-6a9465cde224"
      },
      "outputs": [
        {
          "output_type": "execute_result",
          "data": {
            "application/vnd.google.colaboratory.intrinsic+json": {
              "type": "string"
            },
            "text/plain": [
              "\"Python's hobby?\""
            ]
          },
          "metadata": {},
          "execution_count": 21
        }
      ],
      "source": [
        "# 변수에 담긴 문자열의 위치를 알아봅니다.\n",
        "word = \"Python's hobby?\"\n",
        "word"
      ]
    },
    {
      "cell_type": "code",
      "execution_count": null,
      "metadata": {
        "id": "4_VWAO03S8CP",
        "colab": {
          "base_uri": "https://localhost:8080/",
          "height": 36
        },
        "outputId": "9c224285-802b-4a66-894c-3b93ca438987"
      },
      "outputs": [
        {
          "output_type": "execute_result",
          "data": {
            "application/vnd.google.colaboratory.intrinsic+json": {
              "type": "string"
            },
            "text/plain": [
              "'P'"
            ]
          },
          "metadata": {},
          "execution_count": 23
        }
      ],
      "source": [
        "# 0번 인덱스의 원소를 가져옵니다.\n",
        "word[0]"
      ]
    },
    {
      "cell_type": "code",
      "execution_count": null,
      "metadata": {
        "id": "3ir8zdwoS8CP",
        "colab": {
          "base_uri": "https://localhost:8080/",
          "height": 36
        },
        "outputId": "79ff9590-0d92-42cb-ed58-11a0eec78bdd"
      },
      "outputs": [
        {
          "output_type": "execute_result",
          "data": {
            "application/vnd.google.colaboratory.intrinsic+json": {
              "type": "string"
            },
            "text/plain": [
              "'y'"
            ]
          },
          "metadata": {},
          "execution_count": 24
        }
      ],
      "source": [
        "# 1번 인덱스의 원소를 가져옵니다.\n",
        "word[1]"
      ]
    },
    {
      "cell_type": "code",
      "execution_count": null,
      "metadata": {
        "id": "qCDyo1_WS8CP",
        "colab": {
          "base_uri": "https://localhost:8080/",
          "height": 36
        },
        "outputId": "72f7c17e-14c6-426c-92b4-6e5a93babd49"
      },
      "outputs": [
        {
          "output_type": "execute_result",
          "data": {
            "application/vnd.google.colaboratory.intrinsic+json": {
              "type": "string"
            },
            "text/plain": [
              "'?'"
            ]
          },
          "metadata": {},
          "execution_count": 25
        }
      ],
      "source": [
        "# 마지막 인덱스의 원소를 가져옵니다.\n",
        "word[-1]"
      ]
    },
    {
      "cell_type": "markdown",
      "metadata": {
        "id": "VaawE5a8S8CQ"
      },
      "source": [
        "### 문자열 슬라이싱"
      ]
    },
    {
      "cell_type": "code",
      "execution_count": null,
      "metadata": {
        "id": "kIgR0SZ2S8CQ",
        "colab": {
          "base_uri": "https://localhost:8080/",
          "height": 36
        },
        "outputId": "5b6f5ff8-7e2a-4ffb-aebd-767fc0f28b30"
      },
      "outputs": [
        {
          "output_type": "execute_result",
          "data": {
            "application/vnd.google.colaboratory.intrinsic+json": {
              "type": "string"
            },
            "text/plain": [
              "'Python'"
            ]
          },
          "metadata": {},
          "execution_count": 27
        }
      ],
      "source": [
        "# [시작인덱스:끝나는인덱스+1] 로 문자열의 일부를 가져옵니다.\n",
        "# 앞에서 6개 글자만 가져옵니다.\n",
        "word[0:6]"
      ]
    },
    {
      "cell_type": "code",
      "execution_count": null,
      "metadata": {
        "id": "OCZInh8ZS8CQ",
        "colab": {
          "base_uri": "https://localhost:8080/",
          "height": 36
        },
        "outputId": "79d2c412-e7a4-443d-9afc-4213bb1b35dd"
      },
      "outputs": [
        {
          "output_type": "execute_result",
          "data": {
            "application/vnd.google.colaboratory.intrinsic+json": {
              "type": "string"
            },
            "text/plain": [
              "'hobby?'"
            ]
          },
          "metadata": {},
          "execution_count": 29
        }
      ],
      "source": [
        "# 뒤에서 6개 글자만 가져옵니다.\n",
        "word[-6:]"
      ]
    },
    {
      "cell_type": "code",
      "source": [
        "# 처음부터 끝까지 불러오기\n",
        "word[:]"
      ],
      "metadata": {
        "colab": {
          "base_uri": "https://localhost:8080/",
          "height": 36
        },
        "id": "GkkM9HXyYNBI",
        "outputId": "a26ad9fc-2d38-499e-cce0-6b468d5dc5ad"
      },
      "execution_count": null,
      "outputs": [
        {
          "output_type": "execute_result",
          "data": {
            "application/vnd.google.colaboratory.intrinsic+json": {
              "type": "string"
            },
            "text/plain": [
              "\"Python's hobby?\""
            ]
          },
          "metadata": {},
          "execution_count": 31
        }
      ]
    },
    {
      "cell_type": "code",
      "execution_count": null,
      "metadata": {
        "id": "RzTuVIFbS8CQ",
        "colab": {
          "base_uri": "https://localhost:8080/",
          "height": 36
        },
        "outputId": "99fdb69e-f482-45db-e70f-308175080837"
      },
      "outputs": [
        {
          "output_type": "execute_result",
          "data": {
            "application/vnd.google.colaboratory.intrinsic+json": {
              "type": "string"
            },
            "text/plain": [
              "'thon'"
            ]
          },
          "metadata": {},
          "execution_count": 32
        }
      ],
      "source": [
        "# 2번 인덱스부터 4개의 글자만 가져옵니다.\n",
        "word[2:6]"
      ]
    },
    {
      "cell_type": "markdown",
      "metadata": {
        "id": "nLTUPwHFS8CR"
      },
      "source": [
        "### 문자열 함수\n",
        "* https://docs.python.org/ko/3/library/stdtypes.html#string-methods"
      ]
    },
    {
      "cell_type": "code",
      "execution_count": null,
      "metadata": {
        "id": "X2kw86JaS8CR",
        "colab": {
          "base_uri": "https://localhost:8080/",
          "height": 36
        },
        "outputId": "573325b5-359f-480e-cbd1-960604235c62"
      },
      "outputs": [
        {
          "output_type": "execute_result",
          "data": {
            "application/vnd.google.colaboratory.intrinsic+json": {
              "type": "string"
            },
            "text/plain": [
              "\"python's hobby?\""
            ]
          },
          "metadata": {},
          "execution_count": 33
        }
      ],
      "source": [
        "# 소문자로 변환합니다.\n",
        "word.lower()"
      ]
    },
    {
      "cell_type": "code",
      "execution_count": null,
      "metadata": {
        "id": "bJ046LIDS8CR",
        "colab": {
          "base_uri": "https://localhost:8080/",
          "height": 36
        },
        "outputId": "b9438f41-ff6a-493d-da23-439ebd3a5495"
      },
      "outputs": [
        {
          "output_type": "execute_result",
          "data": {
            "application/vnd.google.colaboratory.intrinsic+json": {
              "type": "string"
            },
            "text/plain": [
              "\"PYTHON'S HOBBY?\""
            ]
          },
          "metadata": {},
          "execution_count": 34
        }
      ],
      "source": [
        "# 대문자로 변환합니다.\n",
        "word.upper()"
      ]
    },
    {
      "cell_type": "markdown",
      "metadata": {
        "id": "C2zcKpd8S8CS"
      },
      "source": [
        "## 리스트\n",
        "* https://docs.python.org/ko/3/tutorial/introduction.html#lists"
      ]
    },
    {
      "cell_type": "code",
      "execution_count": null,
      "metadata": {
        "id": "J23pyaBCS8CS",
        "colab": {
          "base_uri": "https://localhost:8080/"
        },
        "outputId": "8e52fb76-77ab-4276-cdde-bfd2b11b8be2"
      },
      "outputs": [
        {
          "output_type": "execute_result",
          "data": {
            "text/plain": [
              "[1, 4, 9, 16, 25]"
            ]
          },
          "metadata": {},
          "execution_count": 45
        }
      ],
      "source": [
        "# 리스트 값을 생성합니다.\n",
        "squares = [1, 4, 9, 16, 25]\n",
        "squares"
      ]
    },
    {
      "cell_type": "code",
      "source": [
        "type([])"
      ],
      "metadata": {
        "colab": {
          "base_uri": "https://localhost:8080/"
        },
        "id": "3WYnkgFPZaCO",
        "outputId": "7f1bb73d-75d4-499b-e8c0-e8ebb58b97a3"
      },
      "execution_count": null,
      "outputs": [
        {
          "output_type": "execute_result",
          "data": {
            "text/plain": [
              "list"
            ]
          },
          "metadata": {},
          "execution_count": 36
        }
      ]
    },
    {
      "cell_type": "markdown",
      "metadata": {
        "id": "Qkae5HqwS8CS"
      },
      "source": [
        "### 리스트 인덱싱"
      ]
    },
    {
      "cell_type": "code",
      "execution_count": null,
      "metadata": {
        "id": "BHwFTD3hS8CS",
        "colab": {
          "base_uri": "https://localhost:8080/"
        },
        "outputId": "4d45b318-578a-4b29-c598-21ee388b1081"
      },
      "outputs": [
        {
          "output_type": "execute_result",
          "data": {
            "text/plain": [
              "1"
            ]
          },
          "metadata": {},
          "execution_count": 37
        }
      ],
      "source": [
        "# 인덱스 번호는 0부터 시작합니다. 0번 인덱스를 가져옵니다.\n",
        "squares[0]"
      ]
    },
    {
      "cell_type": "code",
      "execution_count": null,
      "metadata": {
        "id": "s56TyZslS8CS",
        "colab": {
          "base_uri": "https://localhost:8080/"
        },
        "outputId": "4a199ea2-8b18-489f-a0b2-ada42438c8b1"
      },
      "outputs": [
        {
          "output_type": "execute_result",
          "data": {
            "text/plain": [
              "25"
            ]
          },
          "metadata": {},
          "execution_count": 38
        }
      ],
      "source": [
        "# 마지막 인덱스는 -1 로 가져올 수 있습니다.\n",
        "squares[-1]"
      ]
    },
    {
      "cell_type": "code",
      "execution_count": null,
      "metadata": {
        "id": "B4sDTpScS8CS",
        "colab": {
          "base_uri": "https://localhost:8080/"
        },
        "outputId": "483e9433-a6a3-4858-919a-6077ba925dae"
      },
      "outputs": [
        {
          "output_type": "execute_result",
          "data": {
            "text/plain": [
              "9"
            ]
          },
          "metadata": {},
          "execution_count": 39
        }
      ],
      "source": [
        "# 뒤에서 3번째 값을 가져옵니다.\n",
        "squares[-3]"
      ]
    },
    {
      "cell_type": "markdown",
      "metadata": {
        "id": "83hnIW36S8CS"
      },
      "source": [
        "### 리스트 슬라이싱"
      ]
    },
    {
      "cell_type": "code",
      "execution_count": null,
      "metadata": {
        "id": "rc8uY68nS8CT",
        "colab": {
          "base_uri": "https://localhost:8080/"
        },
        "outputId": "2d408624-ae72-423a-b492-0b5a85b883a2"
      },
      "outputs": [
        {
          "output_type": "execute_result",
          "data": {
            "text/plain": [
              "[1, 4, 9]"
            ]
          },
          "metadata": {},
          "execution_count": 41
        }
      ],
      "source": [
        "# [시작인덱스:끝나는인덱스+1]\n",
        "squares[0:3]"
      ]
    },
    {
      "cell_type": "code",
      "source": [
        "# 값 전체 가져오기\n",
        "squares[:]"
      ],
      "metadata": {
        "colab": {
          "base_uri": "https://localhost:8080/"
        },
        "id": "TDcC7e6xZuG_",
        "outputId": "05611532-2021-454a-c863-73bec83a71c6"
      },
      "execution_count": null,
      "outputs": [
        {
          "output_type": "execute_result",
          "data": {
            "text/plain": [
              "[1, 4, 9, 16, 25]"
            ]
          },
          "metadata": {},
          "execution_count": 40
        }
      ]
    },
    {
      "cell_type": "code",
      "source": [
        "# 뒤에서 3개 값 가져오기\n",
        "squares[-3:]"
      ],
      "metadata": {
        "colab": {
          "base_uri": "https://localhost:8080/"
        },
        "id": "vvhxpb1tZydt",
        "outputId": "01da2110-a0b1-405c-ca99-70639f6cfef2"
      },
      "execution_count": null,
      "outputs": [
        {
          "output_type": "execute_result",
          "data": {
            "text/plain": [
              "[9, 16, 25]"
            ]
          },
          "metadata": {},
          "execution_count": 42
        }
      ]
    },
    {
      "cell_type": "markdown",
      "metadata": {
        "id": "rwrUe3SjS8CT"
      },
      "source": [
        "### 리스트의 함수"
      ]
    },
    {
      "cell_type": "code",
      "execution_count": null,
      "metadata": {
        "id": "FsXAkl48S8CT",
        "colab": {
          "base_uri": "https://localhost:8080/"
        },
        "outputId": "ab622756-2cc1-4012-e276-b0d82db0383a"
      },
      "outputs": [
        {
          "output_type": "execute_result",
          "data": {
            "text/plain": [
              "[1, 4, 9, 16, 25, 36]"
            ]
          },
          "metadata": {},
          "execution_count": 46
        }
      ],
      "source": [
        "# append로 값을 추가합니다.\n",
        "squares.append(36)\n",
        "squares"
      ]
    },
    {
      "cell_type": "code",
      "execution_count": null,
      "metadata": {
        "id": "mpM2GDdnS8CT",
        "colab": {
          "base_uri": "https://localhost:8080/"
        },
        "outputId": "3bf9b816-f698-47f4-cde6-a0774d7d6caa"
      },
      "outputs": [
        {
          "output_type": "execute_result",
          "data": {
            "text/plain": [
              "[1, 4, 9, 16, 25]"
            ]
          },
          "metadata": {},
          "execution_count": 47
        }
      ],
      "source": [
        "# remove로 값을 제거합니다.\n",
        "squares.remove(36)\n",
        "squares"
      ]
    },
    {
      "cell_type": "code",
      "source": [
        "# 한 번 더 실행하면 36이 들어있지 않기 때문에 오류 발생\n",
        "squares.remove(36)\n",
        "squares"
      ],
      "metadata": {
        "colab": {
          "base_uri": "https://localhost:8080/",
          "height": 213
        },
        "id": "V6mixA7CaOPT",
        "outputId": "bea5ddad-bfb8-44c4-a674-2ca7a17fd0be"
      },
      "execution_count": null,
      "outputs": [
        {
          "output_type": "error",
          "ename": "ValueError",
          "evalue": "ignored",
          "traceback": [
            "\u001b[0;31m---------------------------------------------------------------------------\u001b[0m",
            "\u001b[0;31mValueError\u001b[0m                                Traceback (most recent call last)",
            "\u001b[0;32m<ipython-input-48-990f6bfc8ea6>\u001b[0m in \u001b[0;36m<module>\u001b[0;34m()\u001b[0m\n\u001b[1;32m      1\u001b[0m \u001b[0;31m# 한 번 더 실행하면 36이 들어있지 않기 때문에 오류 발생\u001b[0m\u001b[0;34m\u001b[0m\u001b[0;34m\u001b[0m\u001b[0;34m\u001b[0m\u001b[0m\n\u001b[0;32m----> 2\u001b[0;31m \u001b[0msquares\u001b[0m\u001b[0;34m.\u001b[0m\u001b[0mremove\u001b[0m\u001b[0;34m(\u001b[0m\u001b[0;36m36\u001b[0m\u001b[0;34m)\u001b[0m\u001b[0;34m\u001b[0m\u001b[0;34m\u001b[0m\u001b[0m\n\u001b[0m\u001b[1;32m      3\u001b[0m \u001b[0msquares\u001b[0m\u001b[0;34m\u001b[0m\u001b[0;34m\u001b[0m\u001b[0m\n",
            "\u001b[0;31mValueError\u001b[0m: list.remove(x): x not in list"
          ]
        }
      ]
    },
    {
      "cell_type": "markdown",
      "metadata": {
        "id": "pGZTGx25S8CT"
      },
      "source": [
        "## 딕셔너리\n",
        "* https://docs.python.org/ko/3/tutorial/datastructures.html#dictionaries"
      ]
    },
    {
      "cell_type": "code",
      "execution_count": null,
      "metadata": {
        "id": "o0Z5Z0mRS8CU",
        "colab": {
          "base_uri": "https://localhost:8080/"
        },
        "outputId": "dc62a448-18fb-499e-df79-857b2d7f767e"
      },
      "outputs": [
        {
          "output_type": "execute_result",
          "data": {
            "text/plain": [
              "{'감자': 4098, '고구마': 4139, '쪽파': 100}"
            ]
          },
          "metadata": {},
          "execution_count": 49
        }
      ],
      "source": [
        "# {키:값} 형식으로 되어 있습니다.\n",
        "# 딕셔너리를 정의합니다.\n",
        "# 재고라는 이름을 갖는 변수에 고구마, 감자, 쪽파의 수량을 표시해 봅니다.\n",
        "재고 = {'고구마': 4139, '감자': 4098, '쪽파': 100}\n",
        "재고"
      ]
    },
    {
      "cell_type": "code",
      "execution_count": null,
      "metadata": {
        "scrolled": true,
        "id": "P2lh4Q3KS8CU",
        "colab": {
          "base_uri": "https://localhost:8080/"
        },
        "outputId": "fb8c6a02-31a8-4d20-dbb8-e12fb646a9a0"
      },
      "outputs": [
        {
          "output_type": "execute_result",
          "data": {
            "text/plain": [
              "{'감자': 4098, '고구마': 4139, '대파': 345, '쪽파': 100}"
            ]
          },
          "metadata": {},
          "execution_count": 50
        }
      ],
      "source": [
        "# 재고에 대파를 추가해 봅니다.\n",
        "재고[\"대파\"] = 345\n",
        "재고"
      ]
    },
    {
      "cell_type": "code",
      "execution_count": null,
      "metadata": {
        "id": "QC9aAGTnS8CU",
        "colab": {
          "base_uri": "https://localhost:8080/"
        },
        "outputId": "49903968-f793-4482-ef8a-699a8159881e"
      },
      "outputs": [
        {
          "output_type": "execute_result",
          "data": {
            "text/plain": [
              "345"
            ]
          },
          "metadata": {},
          "execution_count": 51
        }
      ],
      "source": [
        "# 키를 통해 \"대파\"의 값을 가져옵니다.\n",
        "재고[\"대파\"]"
      ]
    },
    {
      "cell_type": "code",
      "execution_count": null,
      "metadata": {
        "id": "Z_kNubhwS8CU",
        "colab": {
          "base_uri": "https://localhost:8080/"
        },
        "outputId": "03704e4f-f2ce-4de4-bd98-8978d345366c"
      },
      "outputs": [
        {
          "output_type": "execute_result",
          "data": {
            "text/plain": [
              "{'감자': 4098, '고구마': 4139, '대파': 345, '양파': 643, '쪽파': 100}"
            ]
          },
          "metadata": {},
          "execution_count": 54
        }
      ],
      "source": [
        "# \"양파\" 도 추가해 봅니다.\n",
        "재고[\"양파\"] = 643\n",
        "재고"
      ]
    },
    {
      "cell_type": "code",
      "execution_count": null,
      "metadata": {
        "id": "HFl-tHfQS8CU"
      },
      "outputs": [],
      "source": [
        "# del을 통해 값을 제거할 수 있습니다.\n",
        "del 재고[\"양파\"]"
      ]
    },
    {
      "cell_type": "code",
      "execution_count": null,
      "metadata": {
        "id": "HYx6DlaIS8CU",
        "colab": {
          "base_uri": "https://localhost:8080/"
        },
        "outputId": "4746bdd7-2b6e-4ee8-e2f2-38a59ccfadfd"
      },
      "outputs": [
        {
          "output_type": "execute_result",
          "data": {
            "text/plain": [
              "{'감자': 4098, '고구마': 4139, '대파': 345, '쪽파': 100}"
            ]
          },
          "metadata": {},
          "execution_count": 56
        }
      ],
      "source": [
        "# 값이 잘 제거되었는지 확인합니다.\n",
        "재고"
      ]
    },
    {
      "cell_type": "code",
      "execution_count": null,
      "metadata": {
        "id": "XvHxzehpS8CU",
        "colab": {
          "base_uri": "https://localhost:8080/"
        },
        "outputId": "e536d166-efbd-4813-c1ca-7d5983d84843"
      },
      "outputs": [
        {
          "output_type": "execute_result",
          "data": {
            "text/plain": [
              "['고구마', '감자', '쪽파', '대파']"
            ]
          },
          "metadata": {},
          "execution_count": 57
        }
      ],
      "source": [
        "# dict를 list로 반환합니다. 이 때 키값을 가져와 리스트로 생성합니다.\n",
        "list(재고)"
      ]
    },
    {
      "cell_type": "code",
      "execution_count": null,
      "metadata": {
        "id": "D98uDiEJS8CV",
        "colab": {
          "base_uri": "https://localhost:8080/"
        },
        "outputId": "3d59acaa-dbcc-4bd9-e064-df3b8b4c49af"
      },
      "outputs": [
        {
          "output_type": "execute_result",
          "data": {
            "text/plain": [
              "['감자', '고구마', '대파', '쪽파']"
            ]
          },
          "metadata": {},
          "execution_count": 58
        }
      ],
      "source": [
        "# sorted를 사용해 재고 변수에 담긴 딕셔너리의 키값을 기준으로 정렬합니다.\n",
        "sorted(재고)"
      ]
    },
    {
      "cell_type": "code",
      "execution_count": null,
      "metadata": {
        "id": "diI-W27KS8CV",
        "colab": {
          "base_uri": "https://localhost:8080/"
        },
        "outputId": "f7d1016b-64b2-422b-a1ce-290af07bde45"
      },
      "outputs": [
        {
          "output_type": "execute_result",
          "data": {
            "text/plain": [
              "dict_keys(['고구마', '감자', '쪽파', '대파'])"
            ]
          },
          "metadata": {},
          "execution_count": 59
        }
      ],
      "source": [
        "# 재고 변수의 키값 불러오기\n",
        "재고.keys()"
      ]
    },
    {
      "cell_type": "code",
      "source": [
        "# 재고 변수의 값 불러오기\n",
        "재고.values()"
      ],
      "metadata": {
        "colab": {
          "base_uri": "https://localhost:8080/"
        },
        "id": "9F5KIrKkbiao",
        "outputId": "67efcf3c-c4ee-45f0-c0e9-e58bcc544b9c"
      },
      "execution_count": null,
      "outputs": [
        {
          "output_type": "execute_result",
          "data": {
            "text/plain": [
              "dict_values([4139, 4098, 100, 345])"
            ]
          },
          "metadata": {},
          "execution_count": 60
        }
      ]
    }
  ],
  "metadata": {
    "colab": {
      "collapsed_sections": [],
      "provenance": [],
      "name": "4.1 파이썬 기본 연산과 자료형-input.ipynb의 사본",
      "include_colab_link": true
    },
    "kernelspec": {
      "display_name": "Python 3",
      "language": "python",
      "name": "python3"
    },
    "language_info": {
      "codemirror_mode": {
        "name": "ipython",
        "version": 3
      },
      "file_extension": ".py",
      "mimetype": "text/x-python",
      "name": "python",
      "nbconvert_exporter": "python",
      "pygments_lexer": "ipython3",
      "version": "3.7.6"
    },
    "toc": {
      "base_numbering": 1,
      "nav_menu": {},
      "number_sections": true,
      "sideBar": true,
      "skip_h1_title": false,
      "title_cell": "Table of Contents",
      "title_sidebar": "Contents",
      "toc_cell": false,
      "toc_position": {},
      "toc_section_display": true,
      "toc_window_display": false
    },
    "varInspector": {
      "cols": {
        "lenName": 16,
        "lenType": 16,
        "lenVar": 40
      },
      "kernels_config": {
        "python": {
          "delete_cmd_postfix": "",
          "delete_cmd_prefix": "del ",
          "library": "var_list.py",
          "varRefreshCmd": "print(var_dic_list())"
        },
        "r": {
          "delete_cmd_postfix": ") ",
          "delete_cmd_prefix": "rm(",
          "library": "var_list.r",
          "varRefreshCmd": "cat(var_dic_list()) "
        }
      },
      "types_to_exclude": [
        "module",
        "function",
        "builtin_function_or_method",
        "instance",
        "_Feature"
      ],
      "window_display": false
    }
  },
  "nbformat": 4,
  "nbformat_minor": 0
}
